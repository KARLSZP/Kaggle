{
 "cells": [
  {
   "cell_type": "markdown",
   "metadata": {},
   "source": [
    "# Sentiment Analysis on Movie Reviews\n",
    "\n",
    "### Classify the sentiment of sentences from the Rotten Tomatoes dataset\n",
    "\n",
    "[Kaggle Competition Page](https://www.kaggle.com/c/sentiment-analysis-on-movie-reviews/)\n",
    "\n",
    "\n",
    "The dataset is comprised of tab-separated files with phrases from the Rotten Tomatoes dataset. The train/test split has been preserved for the purposes of benchmarking, but the sentences have been shuffled from their original order. Each Sentence has been parsed into many phrases by the Stanford parser. Each phrase has a PhraseId. Each sentence has a SentenceId. Phrases that are repeated (such as short/common words) are only included once in the data.\n",
    "\n",
    "`train.tsv` contains the phrases and their associated sentiment labels. We have additionally provided a SentenceId so that you can track which phrases belong to a single sentence.\\\n",
    "`test.tsv` contains just phrases. You must assign a sentiment label to each phrase.\n",
    "\n",
    "The sentiment labels are:\n",
    "- 0 - negative\n",
    "- 1 - somewhat negative\n",
    "- 2 - neutral\n",
    "- 3 - somewhat positive\n",
    "- 4 - positive\n",
    "\n",
    "---\n",
    "\n",
    "**This Notebook will step on with these pipelines:**\n",
    "\n",
    "1. `Data File` $\\rightarrow$ `pd.DataFrame` $\\rightarrow$ `databunch(fast.ai)`\n",
    "\n",
    "\n",
    "2. `pre-trained tokenizer(DistilBert)` $\\rightarrow$ `Wrapped tokenizer` $\\rightarrow$ `TokenizeProcessor(fast.ai)`\n",
    "\n",
    "\n",
    "3. `Vocab from pre-trained tokenizer(DistilBert)` $\\rightarrow$ `Wrapped Vocab` $\\rightarrow$ `NumericalizeProcessor(fast.ai)`\n",
    "\n",
    "\n",
    "4. `Combine(2&3)` $\\rightarrow$ `fastai_processor : [TokenizeProcessor, NumericalizeProcessor]`\n",
    "\n",
    "\n",
    "5. `Learner(fast.ai)` $\\rightarrow$ `Splitted Learner` $\\rightarrow$ `PROGRESSIVELY-FREEZING-LAYERS Training`$^{[1]}$ $\\rightarrow$ `Well-trained Model`\n",
    "\n",
    "\n",
    "---\n",
    "\n",
    "**Preview on scores - @KarlSzp**\n",
    "\n",
    "![scores.png](doc/assets/scores.png)\n",
    "\n",
    "<img src=\"doc/assets/rank.png\" alt=\"rank\" style=\"zoom:60%;\" >"
   ]
  },
  {
   "cell_type": "markdown",
   "metadata": {},
   "source": [
    "## 1 Imports & Definitions\n",
    "\n",
    "This Notebook takes the advantage of the state-of-art technique:\n",
    "1. `transformers`\n",
    "\n",
    "    transformers provides many effective pre-trained models and tokenizers for text-relative tasks.\n",
    "    In this notebook, I use DistilBert.$^{[2]}$\\\n",
    "    DistilBERT, a distilled version of BERT: smaller, faster, cheaper and lighter\n",
    "    \n",
    "    \n",
    "2. `fast.ai`\n",
    "\n",
    "    fast.ai provides an intergrated model `Learner()`, \n",
    "    which helps tune pre-trained model(from transformer)\n",
    "    and the classifier layer added.\n",
    "\n",
    "\n",
    "3. `Frame base: Pytorch`\n",
    "    \n",
    "    Wrapped model is inherited from `nn.Module`, as usual."
   ]
  },
  {
   "cell_type": "code",
   "execution_count": 13,
   "metadata": {},
   "outputs": [],
   "source": [
    "%matplotlib inline\n",
    "import os\n",
    "import gc\n",
    "import json\n",
    "import torch\n",
    "import random\n",
    "import pandas as pd\n",
    "import numpy as np\n",
    "import pickle as pkl\n",
    "import matplotlib.pyplot as plt\n",
    "import seaborn as sns\n",
    "from joblib import Parallel, delayed\n",
    "from pathlib import Path\n",
    "from tqdm import tqdm\n",
    "from torch import nn, optim\n",
    "from torch.utils.data import DataLoader, Dataset\n",
    "from torch.utils.data.dataset import random_split\n",
    "from functools import partial\n",
    "import transformers\n",
    "import transformers.optimization as opt\n",
    "from transformers import (\n",
    "    DistilBertForSequenceClassification,\n",
    "    DistilBertTokenizer,\n",
    "    DistilBertConfig\n",
    ")\n",
    "\n",
    "from fastai.text import *\n",
    "from fastai import *\n",
    "from fastai.callbacks import *\n",
    "\n",
    "\n",
    "# paths & dirs\n",
    "train_data_path = Path(\"./dataset/train.tsv\")\n",
    "test_data_path = Path(\"./dataset/test.tsv\")\n",
    "data_bunch_path = Path(\"./dataset/data_bunch.pkl\")\n",
    "token_corpus_path = \"./dataset/corpus\"\n",
    "data_dir = \"./dataset/\"\n",
    "model_dir = \"./models/\"\n",
    "submission_dir = \"./submissions/\"\n",
    "\n",
    "\n",
    "# Global Params\n",
    "RANDOM_SEED = 7\n",
    "OUTPUT_SIZE = 5\n",
    "EPOCHS = 100\n",
    "TRAIN_RATE = 0.8\n",
    "BATCH_SIZE = 16\n",
    "MAX_VOCAB = 30000\n",
    "\n",
    "\n",
    "# Set for Reproducity\n",
    "random.seed(RANDOM_SEED)\n",
    "np.random.seed(RANDOM_SEED)\n",
    "torch.manual_seed(RANDOM_SEED)\n",
    "torch.cuda.manual_seed(RANDOM_SEED)\n",
    "torch.cuda.manual_seed_all(RANDOM_SEED)\n",
    "torch.backends.cudnn.deterministic = True\n",
    "torch.backends.cudnn.benchmark = False"
   ]
  },
  {
   "cell_type": "code",
   "execution_count": 4,
   "metadata": {},
   "outputs": [],
   "source": [
    "assert torch.__version__ == '1.5.1'\n",
    "assert transformers.__version__ == '3.0.0'"
   ]
  },
  {
   "cell_type": "code",
   "execution_count": 5,
   "metadata": {},
   "outputs": [],
   "source": [
    "# Retrieve DistilBert\n",
    "model = DistilBertForSequenceClassification\n",
    "tokenizer = DistilBertTokenizer\n",
    "config = DistilBertConfig"
   ]
  },
  {
   "cell_type": "markdown",
   "metadata": {},
   "source": [
    "## 2 Implementation"
   ]
  },
  {
   "cell_type": "code",
   "execution_count": 6,
   "metadata": {},
   "outputs": [],
   "source": [
    "class WrappedBaseTokenizer(BaseTokenizer):\n",
    "    \"\"\"\n",
    "    PreTrainedTokenizer --Wrapped--> fast.ai\n",
    "    \"\"\"\n",
    "    def __init__(self, pretrained_tokenizer, **kwargs):\n",
    "        self.pretrained_tokenizer = pretrained_tokenizer\n",
    "        self.max_seq_len = pretrained_tokenizer.max_len\n",
    "    \n",
    "    \"\"\"\n",
    "    Tokenize given seq in DistilBert Norms.\n",
    "    DistilBert: [CLS] + tokens + [SEP] + padding\n",
    "    \"\"\"\n",
    "    def tokenizer(self, seq):\n",
    "        cls_token = self.pretrained_tokenizer.cls_token\n",
    "        sep_token = self.pretrained_tokenizer.sep_token\n",
    "        tokens = self.pretrained_tokenizer.tokenize(seq)\n",
    "        # Mind to leave 2 spaces for cls & sep\n",
    "        tokens = tokens[:self.max_seq_len-2]\n",
    "        tokens = [cls_token] + tokens + [sep_token]\n",
    "        return tokens\n",
    "    \n",
    "    # Callable for fast.ai\n",
    "    def __call__(self, *args, **kwargs):\n",
    "        return self\n",
    "\n",
    "\n",
    "class WrappedVocab(Vocab):\n",
    "    \"\"\"\n",
    "    Overwrite `numericalize` and `textify` functions.\n",
    "    \"\"\"\n",
    "    def __init__(self, tokenizer):\n",
    "        super(WrappedVocab, self).__init__(itos=[])\n",
    "        self.tokenizer = tokenizer\n",
    "    \n",
    "    def numericalize(self, tokens):\n",
    "        return self.tokenizer.convert_tokens_to_ids(tokens)\n",
    "    \n",
    "    def textify(self, ids, sep=' '):\n",
    "        ids = np.array(ids).tolist()\n",
    "        if sep is None:\n",
    "            return self.tokenizer.convert_ids_to_tokens(ids)\n",
    "        else:\n",
    "            return sep.join(self.tokenizer.convert_ids_to_tokens(ids))\n",
    "        \n",
    "    # magic for export in fast.ai\n",
    "    def __getstate__(self):\n",
    "        return {\n",
    "            'itos': self.itos,\n",
    "            'tokenizer': self.tokenizer\n",
    "        }\n",
    "        \n",
    "    # magic for load_learner in fast.ai\n",
    "    def __setstate__(self, state):\n",
    "        self.itos = state['itos']\n",
    "        self.tokenizer = state['tokenizer']\n",
    "        self.stoi = {value: key for key, value in enumerate(self.itos)}\n",
    "        \n",
    "\n",
    "class ModelUponDistilBert(nn.Module):\n",
    "    \"\"\"\n",
    "    Model built upon DistilBert.\n",
    "    \"\"\"\n",
    "    def __init__(self, pretrained_model):\n",
    "        super(ModelUponDistilBert, self).__init__()\n",
    "        self.pretrained_model = pretrained_model\n",
    "        \n",
    "    def forward(self, input_ids, attention_mask=None):\n",
    "        # attention_mask to tell [PAD] from other tokens.\n",
    "        attention_mask = (input_ids != tokenizer.pad_token_id).type(input_ids.type())\n",
    "        \n",
    "        # generate logits for classifier\n",
    "        logits = self.pretrained_model(input_ids=input_ids,\n",
    "                                       attention_mask=attention_mask)[0]\n",
    "        return logits"
   ]
  },
  {
   "cell_type": "code",
   "execution_count": 7,
   "metadata": {},
   "outputs": [],
   "source": [
    "# Tokenizer for fast.ai\n",
    "tokenizer = tokenizer.from_pretrained(\"distilbert-base-uncased\")\n",
    "wrapped_tokenizer = WrappedBaseTokenizer(pretrained_tokenizer=tokenizer)\n",
    "fastai_tokenizer = Tokenizer(tok_func=wrapped_tokenizer, \n",
    "                             pre_rules=[], post_rules=[])"
   ]
  },
  {
   "cell_type": "code",
   "execution_count": 8,
   "metadata": {},
   "outputs": [],
   "source": [
    "# Vocab for fast.ai\n",
    "wrapped_vocab = WrappedVocab(tokenizer=tokenizer)\n",
    "numericalize_processor = NumericalizeProcessor(vocab=wrapped_vocab,\n",
    "                                               max_vocab=MAX_VOCAB)"
   ]
  },
  {
   "cell_type": "code",
   "execution_count": 9,
   "metadata": {},
   "outputs": [],
   "source": [
    "# Processor for fast.ai\n",
    "tokenize_processor = TokenizeProcessor(tokenizer=fastai_tokenizer,\n",
    "                                       include_bos=False)\n",
    "\n",
    "fastai_processor = [tokenize_processor, numericalize_processor]"
   ]
  },
  {
   "cell_type": "markdown",
   "metadata": {},
   "source": [
    "So far, I've instantiated the processor to build databunch:\n",
    "\n",
    "`fastai_processor : [tokenize_processor, numericalize_processor]`\n",
    "\n",
    "it process data to tokens and numericalize tokens to ids.\n",
    "\n",
    "---\n",
    "\n",
    "## 3 Build databunch"
   ]
  },
  {
   "cell_type": "code",
   "execution_count": 10,
   "metadata": {},
   "outputs": [
    {
     "name": "stdout",
     "output_type": "stream",
     "text": [
      "Corpus existed. Overwriting...\n",
      "Corpus existed. Overwriting...\n"
     ]
    }
   ],
   "source": [
    "# Util - Load Data\n",
    "def generateCorpus(data_path, save_corpus=True):\n",
    "    df = pd.read_table(data_path)\n",
    "    corpus = \" \".join(list(df.Phrase.values))\n",
    "    if os.path.exists(token_corpus_path):\n",
    "        print(\"Corpus existed. Overwriting...\")\n",
    "    with open(token_corpus_path, \"w\") as f:\n",
    "        f.write(corpus)\n",
    "    \n",
    "    return df, corpus\n",
    "\n",
    "train_df, corpus = generateCorpus(train_data_path)\n",
    "test_df, _ = generateCorpus(test_data_path, save_corpus=False)\n",
    "\n",
    "TRAIN_SIZE = train_df.shape[0]"
   ]
  },
  {
   "cell_type": "code",
   "execution_count": 11,
   "metadata": {},
   "outputs": [
    {
     "data": {
      "text/html": [],
      "text/plain": [
       "<IPython.core.display.HTML object>"
      ]
     },
     "metadata": {},
     "output_type": "display_data"
    },
    {
     "data": {
      "text/html": [],
      "text/plain": [
       "<IPython.core.display.HTML object>"
      ]
     },
     "metadata": {},
     "output_type": "display_data"
    },
    {
     "data": {
      "text/html": [],
      "text/plain": [
       "<IPython.core.display.HTML object>"
      ]
     },
     "metadata": {},
     "output_type": "display_data"
    }
   ],
   "source": [
    "# Generate databunch\n",
    "data_bunch = (TextList.from_df(train_df, cols='Phrase', \n",
    "                               processor=fastai_processor)\n",
    "              .split_by_rand_pct(valid_pct=(1-TRAIN_RATE), seed=RANDOM_SEED)\n",
    "              .label_from_df(cols='Sentiment')\n",
    "              .add_test(test_df)\n",
    "              .databunch(bs=BATCH_SIZE,\n",
    "                         pad_first=False,\n",
    "                         pad_idx=tokenizer.pad_token_id))"
   ]
  },
  {
   "cell_type": "code",
   "execution_count": 12,
   "metadata": {},
   "outputs": [
    {
     "data": {
      "text/html": [
       "<table border=\"1\" class=\"dataframe\">\n",
       "  <thead>\n",
       "    <tr style=\"text-align: right;\">\n",
       "      <th>text</th>\n",
       "      <th>target</th>\n",
       "    </tr>\n",
       "  </thead>\n",
       "  <tbody>\n",
       "    <tr>\n",
       "      <td>[CLS] - l ##rb - city - rr ##b - reminds us how realistic ##ally nu ##ance ##d a robert de ni ##ro performance can be when he is not more lucrative ##ly engaged in the shame ##less self - car ##ica ##ture of ` analyze this ' - l ##rb - 1999 - rr ##b - and ` analyze that , ' promised - l ##rb - or threatened</td>\n",
       "      <td>3</td>\n",
       "    </tr>\n",
       "    <tr>\n",
       "      <td>[CLS] it ' s too harsh to work as a piece of storytelling , but as an intellectual exercise - - an unpleasant debate that ' s been given the drive of a narrative and that ' s been acted out - - the believer is nothing less than a provocative piece of work [SEP] [PAD] [PAD] [PAD] [PAD] [PAD] [PAD] [PAD] [PAD] [PAD] [PAD] [PAD] [PAD] [PAD] [PAD] [PAD]</td>\n",
       "      <td>2</td>\n",
       "    </tr>\n",
       "    <tr>\n",
       "      <td>[CLS] a bon ##anza of wa ##cky sight gag ##s , out ##land ##ish color schemes , and corn ##y visual pun ##s that can be appreciated equally as an abstract frank ta ##sh ##lin comedy and as a playful rec ##ap ##it ##ulation of the artist ' s career . [SEP] [PAD] [PAD] [PAD] [PAD] [PAD] [PAD] [PAD] [PAD] [PAD] [PAD] [PAD] [PAD] [PAD] [PAD] [PAD] [PAD] [PAD] [PAD]</td>\n",
       "      <td>2</td>\n",
       "    </tr>\n",
       "    <tr>\n",
       "      <td>[CLS] if you ' re the kind of parent who enjoys intentionally introducing your kids to films which will cause loads of ir ##re ##para ##ble damage that years and years of costly analysis could never fix , i have just one word for you - - - dec ##asia [SEP] [PAD] [PAD] [PAD] [PAD] [PAD] [PAD] [PAD] [PAD] [PAD] [PAD] [PAD] [PAD] [PAD] [PAD] [PAD] [PAD] [PAD] [PAD] [PAD]</td>\n",
       "      <td>0</td>\n",
       "    </tr>\n",
       "    <tr>\n",
       "      <td>[CLS] jones , despite a definitely distinctive screen presence , just is n ' t able to muster for a movie that , its title notwithstanding , should have been a lot nas ##tier if it wanted to fully capital ##ize on its lead ' s specific gifts . [SEP] [PAD] [PAD] [PAD] [PAD] [PAD] [PAD] [PAD] [PAD] [PAD] [PAD] [PAD] [PAD] [PAD] [PAD] [PAD] [PAD] [PAD] [PAD] [PAD] [PAD]</td>\n",
       "      <td>1</td>\n",
       "    </tr>\n",
       "  </tbody>\n",
       "</table>"
      ],
      "text/plain": [
       "<IPython.core.display.HTML object>"
      ]
     },
     "metadata": {},
     "output_type": "display_data"
    }
   ],
   "source": [
    "data_bunch.show_batch()"
   ]
  },
  {
   "cell_type": "markdown",
   "metadata": {},
   "source": [
    "## 4 Set the Learner"
   ]
  },
  {
   "cell_type": "code",
   "execution_count": 15,
   "metadata": {},
   "outputs": [],
   "source": [
    "# Config\n",
    "config = config.from_pretrained(\"distilbert-base-uncased\")\n",
    "config.num_labels = 5\n",
    "\n",
    "# Model Instance\n",
    "model = model.from_pretrained(\"distilbert-base-uncased\", config=config)\n",
    "fastai_model = ModelUponDistilBert(pretrained_model=model)\n",
    "\n",
    "# Use optimized Adam as optimizer\n",
    "opt_AdamW = partial(opt.AdamW, correct_bias=False)"
   ]
  },
  {
   "cell_type": "code",
   "execution_count": 16,
   "metadata": {},
   "outputs": [],
   "source": [
    "# Instantiate a Learner\n",
    "learner = Learner(data=data_bunch,\n",
    "                  model=fastai_model,\n",
    "                  opt_func=opt_AdamW,\n",
    "                  metrics=[accuracy, error_rate],\n",
    "                  silent=False)\n",
    "\n",
    "learner.callbacks.append(ShowGraph(learner))"
   ]
  },
  {
   "cell_type": "markdown",
   "metadata": {},
   "source": [
    "To apply the freeze-out technique, overlook the learner and split it into several layers of model.\n",
    "\n",
    "The learner is stacked as:\n",
    "1. distilbert\n",
    "    1. embeddings\n",
    "    2. transformer\n",
    "        1. layer - 0\\\n",
    "        ...\n",
    "        6. layer - 5\n",
    "2. pre_classifier"
   ]
  },
  {
   "cell_type": "code",
   "execution_count": 17,
   "metadata": {},
   "outputs": [
    {
     "data": {
      "text/plain": [
       "<bound method Module.named_modules of ModelUponDistilBert(\n",
       "  (pretrained_model): DistilBertForSequenceClassification(\n",
       "    (distilbert): DistilBertModel(\n",
       "      (embeddings): Embeddings(\n",
       "        (word_embeddings): Embedding(30522, 768, padding_idx=0)\n",
       "        (position_embeddings): Embedding(512, 768)\n",
       "        (LayerNorm): LayerNorm((768,), eps=1e-12, elementwise_affine=True)\n",
       "        (dropout): Dropout(p=0.1, inplace=False)\n",
       "      )\n",
       "      (transformer): Transformer(\n",
       "        (layer): ModuleList(\n",
       "          (0): TransformerBlock(\n",
       "            (attention): MultiHeadSelfAttention(\n",
       "              (dropout): Dropout(p=0.1, inplace=False)\n",
       "              (q_lin): Linear(in_features=768, out_features=768, bias=True)\n",
       "              (k_lin): Linear(in_features=768, out_features=768, bias=True)\n",
       "              (v_lin): Linear(in_features=768, out_features=768, bias=True)\n",
       "              (out_lin): Linear(in_features=768, out_features=768, bias=True)\n",
       "            )\n",
       "            (sa_layer_norm): LayerNorm((768,), eps=1e-12, elementwise_affine=True)\n",
       "            (ffn): FFN(\n",
       "              (dropout): Dropout(p=0.1, inplace=False)\n",
       "              (lin1): Linear(in_features=768, out_features=3072, bias=True)\n",
       "              (lin2): Linear(in_features=3072, out_features=768, bias=True)\n",
       "            )\n",
       "            (output_layer_norm): LayerNorm((768,), eps=1e-12, elementwise_affine=True)\n",
       "          )\n",
       "          (1): TransformerBlock(\n",
       "            (attention): MultiHeadSelfAttention(\n",
       "              (dropout): Dropout(p=0.1, inplace=False)\n",
       "              (q_lin): Linear(in_features=768, out_features=768, bias=True)\n",
       "              (k_lin): Linear(in_features=768, out_features=768, bias=True)\n",
       "              (v_lin): Linear(in_features=768, out_features=768, bias=True)\n",
       "              (out_lin): Linear(in_features=768, out_features=768, bias=True)\n",
       "            )\n",
       "            (sa_layer_norm): LayerNorm((768,), eps=1e-12, elementwise_affine=True)\n",
       "            (ffn): FFN(\n",
       "              (dropout): Dropout(p=0.1, inplace=False)\n",
       "              (lin1): Linear(in_features=768, out_features=3072, bias=True)\n",
       "              (lin2): Linear(in_features=3072, out_features=768, bias=True)\n",
       "            )\n",
       "            (output_layer_norm): LayerNorm((768,), eps=1e-12, elementwise_affine=True)\n",
       "          )\n",
       "          (2): TransformerBlock(\n",
       "            (attention): MultiHeadSelfAttention(\n",
       "              (dropout): Dropout(p=0.1, inplace=False)\n",
       "              (q_lin): Linear(in_features=768, out_features=768, bias=True)\n",
       "              (k_lin): Linear(in_features=768, out_features=768, bias=True)\n",
       "              (v_lin): Linear(in_features=768, out_features=768, bias=True)\n",
       "              (out_lin): Linear(in_features=768, out_features=768, bias=True)\n",
       "            )\n",
       "            (sa_layer_norm): LayerNorm((768,), eps=1e-12, elementwise_affine=True)\n",
       "            (ffn): FFN(\n",
       "              (dropout): Dropout(p=0.1, inplace=False)\n",
       "              (lin1): Linear(in_features=768, out_features=3072, bias=True)\n",
       "              (lin2): Linear(in_features=3072, out_features=768, bias=True)\n",
       "            )\n",
       "            (output_layer_norm): LayerNorm((768,), eps=1e-12, elementwise_affine=True)\n",
       "          )\n",
       "          (3): TransformerBlock(\n",
       "            (attention): MultiHeadSelfAttention(\n",
       "              (dropout): Dropout(p=0.1, inplace=False)\n",
       "              (q_lin): Linear(in_features=768, out_features=768, bias=True)\n",
       "              (k_lin): Linear(in_features=768, out_features=768, bias=True)\n",
       "              (v_lin): Linear(in_features=768, out_features=768, bias=True)\n",
       "              (out_lin): Linear(in_features=768, out_features=768, bias=True)\n",
       "            )\n",
       "            (sa_layer_norm): LayerNorm((768,), eps=1e-12, elementwise_affine=True)\n",
       "            (ffn): FFN(\n",
       "              (dropout): Dropout(p=0.1, inplace=False)\n",
       "              (lin1): Linear(in_features=768, out_features=3072, bias=True)\n",
       "              (lin2): Linear(in_features=3072, out_features=768, bias=True)\n",
       "            )\n",
       "            (output_layer_norm): LayerNorm((768,), eps=1e-12, elementwise_affine=True)\n",
       "          )\n",
       "          (4): TransformerBlock(\n",
       "            (attention): MultiHeadSelfAttention(\n",
       "              (dropout): Dropout(p=0.1, inplace=False)\n",
       "              (q_lin): Linear(in_features=768, out_features=768, bias=True)\n",
       "              (k_lin): Linear(in_features=768, out_features=768, bias=True)\n",
       "              (v_lin): Linear(in_features=768, out_features=768, bias=True)\n",
       "              (out_lin): Linear(in_features=768, out_features=768, bias=True)\n",
       "            )\n",
       "            (sa_layer_norm): LayerNorm((768,), eps=1e-12, elementwise_affine=True)\n",
       "            (ffn): FFN(\n",
       "              (dropout): Dropout(p=0.1, inplace=False)\n",
       "              (lin1): Linear(in_features=768, out_features=3072, bias=True)\n",
       "              (lin2): Linear(in_features=3072, out_features=768, bias=True)\n",
       "            )\n",
       "            (output_layer_norm): LayerNorm((768,), eps=1e-12, elementwise_affine=True)\n",
       "          )\n",
       "          (5): TransformerBlock(\n",
       "            (attention): MultiHeadSelfAttention(\n",
       "              (dropout): Dropout(p=0.1, inplace=False)\n",
       "              (q_lin): Linear(in_features=768, out_features=768, bias=True)\n",
       "              (k_lin): Linear(in_features=768, out_features=768, bias=True)\n",
       "              (v_lin): Linear(in_features=768, out_features=768, bias=True)\n",
       "              (out_lin): Linear(in_features=768, out_features=768, bias=True)\n",
       "            )\n",
       "            (sa_layer_norm): LayerNorm((768,), eps=1e-12, elementwise_affine=True)\n",
       "            (ffn): FFN(\n",
       "              (dropout): Dropout(p=0.1, inplace=False)\n",
       "              (lin1): Linear(in_features=768, out_features=3072, bias=True)\n",
       "              (lin2): Linear(in_features=3072, out_features=768, bias=True)\n",
       "            )\n",
       "            (output_layer_norm): LayerNorm((768,), eps=1e-12, elementwise_affine=True)\n",
       "          )\n",
       "        )\n",
       "      )\n",
       "    )\n",
       "    (pre_classifier): Linear(in_features=768, out_features=768, bias=True)\n",
       "    (classifier): Linear(in_features=768, out_features=5, bias=True)\n",
       "    (dropout): Dropout(p=0.2, inplace=False)\n",
       "  )\n",
       ")>"
      ]
     },
     "execution_count": 17,
     "metadata": {},
     "output_type": "execute_result"
    }
   ],
   "source": [
    "learner.model.named_modules"
   ]
  },
  {
   "cell_type": "markdown",
   "metadata": {},
   "source": [
    "In this term, the splitting strategy comes as follow:"
   ]
  },
  {
   "cell_type": "code",
   "execution_count": 18,
   "metadata": {},
   "outputs": [],
   "source": [
    "split_layers = [learner.model.pretrained_model.distilbert.embeddings,\n",
    "                learner.model.pretrained_model.distilbert.transformer.layer[0],\n",
    "                learner.model.pretrained_model.distilbert.transformer.layer[1],\n",
    "                learner.model.pretrained_model.distilbert.transformer.layer[2],\n",
    "                learner.model.pretrained_model.distilbert.transformer.layer[3],\n",
    "                learner.model.pretrained_model.distilbert.transformer.layer[4],\n",
    "                learner.model.pretrained_model.distilbert.transformer.layer[5],\n",
    "                learner.model.pretrained_model.pre_classifier]"
   ]
  },
  {
   "cell_type": "code",
   "execution_count": 19,
   "metadata": {},
   "outputs": [
    {
     "name": "stdout",
     "output_type": "stream",
     "text": [
      "Learner split in 8 groups\n"
     ]
    }
   ],
   "source": [
    "learner.split(split_layers)\n",
    "# goups_len is used to initiate \n",
    "# the learning rate, in next section.\n",
    "groups_len = len(learner.layer_groups)\n",
    "print('Learner split in',groups_len,'groups')"
   ]
  },
  {
   "cell_type": "markdown",
   "metadata": {},
   "source": [
    "---\n",
    "## 5 Training"
   ]
  },
  {
   "cell_type": "markdown",
   "metadata": {},
   "source": [
    "**Remember to skip this section and do benchmarking!**"
   ]
  },
  {
   "cell_type": "code",
   "execution_count": 15,
   "metadata": {},
   "outputs": [],
   "source": [
    "learner.model_dir = model_dir\n",
    "learner.save('raw_model')"
   ]
  },
  {
   "cell_type": "markdown",
   "metadata": {},
   "source": [
    "Freeze until the last second group, and find the best learning rate.\n",
    "\n",
    "\n",
    "**BTW**:\\\n",
    "Some may argue that WHY NOT CHOOSING the LR with lowest loss, however, refering to many blogs and fast.ai tutorial, a LR that still have space to be optimized is preferred."
   ]
  },
  {
   "cell_type": "code",
   "execution_count": 16,
   "metadata": {},
   "outputs": [],
   "source": [
    "# Freeze until the last second group\n",
    "learner.freeze_to(-1)"
   ]
  },
  {
   "cell_type": "code",
   "execution_count": 17,
   "metadata": {},
   "outputs": [
    {
     "data": {
      "text/html": [
       "\n",
       "    <div>\n",
       "        <style>\n",
       "            /* Turns off some styling */\n",
       "            progress {\n",
       "                /* gets rid of default border in Firefox and Opera. */\n",
       "                border: none;\n",
       "                /* Needs to be in here for Safari polyfill so background images work as expected. */\n",
       "                background-size: auto;\n",
       "            }\n",
       "            .progress-bar-interrupted, .progress-bar-interrupted::-webkit-progress-bar {\n",
       "                background: #F44336;\n",
       "            }\n",
       "        </style>\n",
       "      <progress value='0' class='' max='1' style='width:300px; height:20px; vertical-align: middle;'></progress>\n",
       "      0.00% [0/1 00:00<00:00]\n",
       "    </div>\n",
       "    \n",
       "<table border=\"1\" class=\"dataframe\">\n",
       "  <thead>\n",
       "    <tr style=\"text-align: left;\">\n",
       "      <th>epoch</th>\n",
       "      <th>train_loss</th>\n",
       "      <th>valid_loss</th>\n",
       "      <th>accuracy</th>\n",
       "      <th>error_rate</th>\n",
       "      <th>time</th>\n",
       "    </tr>\n",
       "  </thead>\n",
       "  <tbody>\n",
       "  </tbody>\n",
       "</table><p>\n",
       "\n",
       "    <div>\n",
       "        <style>\n",
       "            /* Turns off some styling */\n",
       "            progress {\n",
       "                /* gets rid of default border in Firefox and Opera. */\n",
       "                border: none;\n",
       "                /* Needs to be in here for Safari polyfill so background images work as expected. */\n",
       "                background-size: auto;\n",
       "            }\n",
       "            .progress-bar-interrupted, .progress-bar-interrupted::-webkit-progress-bar {\n",
       "                background: #F44336;\n",
       "            }\n",
       "        </style>\n",
       "      <progress value='93' class='' max='7803' style='width:300px; height:20px; vertical-align: middle;'></progress>\n",
       "      1.19% [93/7803 00:04<06:44 1.7505]\n",
       "    </div>\n",
       "    "
      ],
      "text/plain": [
       "<IPython.core.display.HTML object>"
      ]
     },
     "metadata": {},
     "output_type": "display_data"
    },
    {
     "name": "stdout",
     "output_type": "stream",
     "text": [
      "LR Finder is complete, type {learner_name}.recorder.plot() to see the graph.\n"
     ]
    }
   ],
   "source": [
    "lr = learner.lr_find()"
   ]
  },
  {
   "cell_type": "code",
   "execution_count": 18,
   "metadata": {},
   "outputs": [
    {
     "name": "stdout",
     "output_type": "stream",
     "text": [
      "Min numerical gradient: 9.12E-05\n",
      "Min loss divided by 10: 1.91E-05\n"
     ]
    },
    {
     "data": {
      "image/png": "[encoded data removed]",
      "text/plain": [
       "<Figure size 432x288 with 1 Axes>"
      ]
     },
     "metadata": {
      "needs_background": "light"
     },
     "output_type": "display_data"
    }
   ],
   "source": [
    "learner.recorder.plot(skip_end=20, suggestion=True)"
   ]
  },
  {
   "cell_type": "code",
   "execution_count": 19,
   "metadata": {},
   "outputs": [],
   "source": [
    "def train_func(learner, cyc_len=1, freeze_n=None, best_lr=2e-04, save=False):\n",
    "    if freeze_n is not None:\n",
    "        learner.freeze_to(freeze_n)\n",
    "    else:\n",
    "        learner.unfreeze()\n",
    "    \n",
    "    learner.fit_one_cycle(cyc_len, max_lr=best_lr)\n",
    "    learner.save('model-freeze-to-{}'.format(str(freeze_n) if freeze_n is not None else \"None\"))"
   ]
  },
  {
   "cell_type": "code",
   "execution_count": 20,
   "metadata": {},
   "outputs": [
    {
     "data": {
      "text/html": [
       "<table border=\"1\" class=\"dataframe\">\n",
       "  <thead>\n",
       "    <tr style=\"text-align: left;\">\n",
       "      <th>epoch</th>\n",
       "      <th>train_loss</th>\n",
       "      <th>valid_loss</th>\n",
       "      <th>accuracy</th>\n",
       "      <th>error_rate</th>\n",
       "      <th>time</th>\n",
       "    </tr>\n",
       "  </thead>\n",
       "  <tbody>\n",
       "    <tr>\n",
       "      <td>0</td>\n",
       "      <td>0.903059</td>\n",
       "      <td>0.888748</td>\n",
       "      <td>0.635705</td>\n",
       "      <td>0.364295</td>\n",
       "      <td>03:11</td>\n",
       "    </tr>\n",
       "  </tbody>\n",
       "</table>"
      ],
      "text/plain": [
       "<IPython.core.display.HTML object>"
      ]
     },
     "metadata": {},
     "output_type": "display_data"
    },
    {
     "data": {
      "image/png": "[encoded data removed]",
      "text/plain": [
       "<Figure size 432x288 with 1 Axes>"
      ]
     },
     "metadata": {},
     "output_type": "display_data"
    }
   ],
   "source": [
    "# Freeze until the last second group and train\n",
    "train_func(learner, 1, -1, save=True)"
   ]
  },
  {
   "cell_type": "markdown",
   "metadata": {},
   "source": [
    "After training ONLY the last group(the classifier), use a slice of LR instead of scalar, in order to \"warm up\"."
   ]
  },
  {
   "cell_type": "code",
   "execution_count": null,
   "metadata": {},
   "outputs": [],
   "source": [
    "best_lr_interval = slice(1e-5*0.95**groups_len, 1e-5)"
   ]
  },
  {
   "cell_type": "code",
   "execution_count": 26,
   "metadata": {
    "scrolled": false
   },
   "outputs": [
    {
     "data": {
      "text/html": [
       "<table border=\"1\" class=\"dataframe\">\n",
       "  <thead>\n",
       "    <tr style=\"text-align: left;\">\n",
       "      <th>epoch</th>\n",
       "      <th>train_loss</th>\n",
       "      <th>valid_loss</th>\n",
       "      <th>accuracy</th>\n",
       "      <th>error_rate</th>\n",
       "      <th>time</th>\n",
       "    </tr>\n",
       "  </thead>\n",
       "  <tbody>\n",
       "    <tr>\n",
       "      <td>0</td>\n",
       "      <td>0.886235</td>\n",
       "      <td>0.843399</td>\n",
       "      <td>0.651416</td>\n",
       "      <td>0.348584</td>\n",
       "      <td>04:48</td>\n",
       "    </tr>\n",
       "  </tbody>\n",
       "</table>"
      ],
      "text/plain": [
       "<IPython.core.display.HTML object>"
      ]
     },
     "metadata": {},
     "output_type": "display_data"
    },
    {
     "data": {
      "image/png": "[encoded data removed]",
      "text/plain": [
       "<Figure size 432x288 with 1 Axes>"
      ]
     },
     "metadata": {},
     "output_type": "display_data"
    }
   ],
   "source": [
    "# Freeze until the last third group and train\n",
    "train_func(learner, 1, -2, best_lr_interval, save=True)"
   ]
  },
  {
   "cell_type": "code",
   "execution_count": 30,
   "metadata": {},
   "outputs": [
    {
     "data": {
      "text/html": [
       "<table border=\"1\" class=\"dataframe\">\n",
       "  <thead>\n",
       "    <tr style=\"text-align: left;\">\n",
       "      <th>epoch</th>\n",
       "      <th>train_loss</th>\n",
       "      <th>valid_loss</th>\n",
       "      <th>accuracy</th>\n",
       "      <th>error_rate</th>\n",
       "      <th>time</th>\n",
       "    </tr>\n",
       "  </thead>\n",
       "  <tbody>\n",
       "    <tr>\n",
       "      <td>0</td>\n",
       "      <td>0.824864</td>\n",
       "      <td>0.810565</td>\n",
       "      <td>0.663591</td>\n",
       "      <td>0.336409</td>\n",
       "      <td>06:30</td>\n",
       "    </tr>\n",
       "  </tbody>\n",
       "</table>"
      ],
      "text/plain": [
       "<IPython.core.display.HTML object>"
      ]
     },
     "metadata": {},
     "output_type": "display_data"
    },
    {
     "data": {
      "image/png": "[encoded data removed]",
      "text/plain": [
       "<Figure size 432x288 with 1 Axes>"
      ]
     },
     "metadata": {},
     "output_type": "display_data"
    }
   ],
   "source": [
    "# Freeze until the last fourth group and train\n",
    "train_func(learner, 1, -3, best_lr_interval, save=True)"
   ]
  },
  {
   "cell_type": "markdown",
   "metadata": {},
   "source": [
    "Then, unfreeze all and train."
   ]
  },
  {
   "cell_type": "code",
   "execution_count": 33,
   "metadata": {},
   "outputs": [],
   "source": [
    "train_func(learner, 3, None, best_lr_interval, save=True)"
   ]
  },
  {
   "cell_type": "markdown",
   "metadata": {},
   "source": [
    "Training process done, and export the learner."
   ]
  },
  {
   "cell_type": "code",
   "execution_count": null,
   "metadata": {},
   "outputs": [],
   "source": [
    "learner.export(file='transformer.pkl')"
   ]
  },
  {
   "cell_type": "markdown",
   "metadata": {},
   "source": [
    "**NB**:\n",
    "1. Since my device is not strong enough to support the training demand(Geforce 1050, Nvidia), the training process was actually done in Google Colab with free GPU.\n",
    "2. I download the final model and predictions from my google drive, and directly load them from files in the next benchmarking section.\n",
    "3. If necessary, you could run the training process on your device without modifying code above."
   ]
  },
  {
   "cell_type": "markdown",
   "metadata": {},
   "source": [
    "## 6 Benchmarking"
   ]
  },
  {
   "cell_type": "code",
   "execution_count": 18,
   "metadata": {
    "scrolled": false
   },
   "outputs": [
    {
     "data": {
      "text/html": [],
      "text/plain": [
       "<IPython.core.display.HTML object>"
      ]
     },
     "metadata": {},
     "output_type": "display_data"
    },
    {
     "data": {
      "text/html": [],
      "text/plain": [
       "<IPython.core.display.HTML object>"
      ]
     },
     "metadata": {},
     "output_type": "display_data"
    }
   ],
   "source": [
    "trained_learner = load_learner(model_dir, file = 'transformer.pkl')"
   ]
  },
  {
   "cell_type": "markdown",
   "metadata": {},
   "source": [
    "**Try it on some Interesting corpus here!**\n",
    "\n",
    "Note that:\\\n",
    "The sentiment labels are:\n",
    "- 0 - negative\n",
    "- 1 - somewhat negative\n",
    "- 2 - neutral\n",
    "- 3 - somewhat positive\n",
    "- 4 - positive"
   ]
  },
  {
   "cell_type": "code",
   "execution_count": 26,
   "metadata": {},
   "outputs": [],
   "source": [
    "def predict(seq):    \n",
    "    sentiment_dict = {\n",
    "        0: \"negative\",\n",
    "        1: \"somewhat negative\",\n",
    "        2: \"neutral\",\n",
    "        3: \"somewhat positive\",\n",
    "        4: \"positive\"\n",
    "    }\n",
    "    return sentiment_dict[int(trained_learner.predict(seq)[1])]"
   ]
  },
  {
   "cell_type": "code",
   "execution_count": 30,
   "metadata": {},
   "outputs": [
    {
     "data": {
      "text/plain": [
       "'positive'"
      ]
     },
     "execution_count": 30,
     "metadata": {},
     "output_type": "execute_result"
    }
   ],
   "source": [
    "predict(\"This movie is quite interesting!!\")"
   ]
  },
  {
   "cell_type": "code",
   "execution_count": 31,
   "metadata": {},
   "outputs": [
    {
     "data": {
      "text/plain": [
       "'negative'"
      ]
     },
     "execution_count": 31,
     "metadata": {},
     "output_type": "execute_result"
    }
   ],
   "source": [
    "predict(\"This movie is really boring!!\")"
   ]
  },
  {
   "cell_type": "code",
   "execution_count": 35,
   "metadata": {},
   "outputs": [
    {
     "data": {
      "text/plain": [
       "'somewhat positive'"
      ]
     },
     "execution_count": 35,
     "metadata": {},
     "output_type": "execute_result"
    }
   ],
   "source": [
    "predict(\"This movie deserve it!\")"
   ]
  },
  {
   "cell_type": "code",
   "execution_count": 36,
   "metadata": {},
   "outputs": [
    {
     "data": {
      "text/plain": [
       "'negative'"
      ]
     },
     "execution_count": 36,
     "metadata": {},
     "output_type": "execute_result"
    }
   ],
   "source": [
    "predict(\"This movie is a waste of time!\")"
   ]
  },
  {
   "cell_type": "code",
   "execution_count": 40,
   "metadata": {},
   "outputs": [
    {
     "data": {
      "text/plain": [
       "'somewhat negative'"
      ]
     },
     "execution_count": 40,
     "metadata": {},
     "output_type": "execute_result"
    }
   ],
   "source": [
    "predict(\"This movie is a bit boring.\")"
   ]
  },
  {
   "cell_type": "code",
   "execution_count": 50,
   "metadata": {},
   "outputs": [
    {
     "data": {
      "text/plain": [
       "'somewhat positive'"
      ]
     },
     "execution_count": 50,
     "metadata": {},
     "output_type": "execute_result"
    }
   ],
   "source": [
    "predict(\"This movie is good at plot.\")"
   ]
  },
  {
   "cell_type": "code",
   "execution_count": 51,
   "metadata": {},
   "outputs": [
    {
     "data": {
      "text/plain": [
       "'somewhat negative'"
      ]
     },
     "execution_count": 51,
     "metadata": {},
     "output_type": "execute_result"
    }
   ],
   "source": [
    "predict(\"This movie is bad at acting.\")"
   ]
  },
  {
   "cell_type": "code",
   "execution_count": 52,
   "metadata": {},
   "outputs": [
    {
     "data": {
      "text/plain": [
       "'neutral'"
      ]
     },
     "execution_count": 52,
     "metadata": {},
     "output_type": "execute_result"
    }
   ],
   "source": [
    "predict(\"This movie is good at plot while bad at acting.\")"
   ]
  },
  {
   "cell_type": "code",
   "execution_count": 24,
   "metadata": {},
   "outputs": [],
   "source": [
    "with open(data_dir+\"predictions.pkl\", \"rb\") as f:\n",
    "    predictions = pkl.load(f)\n",
    "\n",
    "assert predictions.shape[1] == 5"
   ]
  },
  {
   "cell_type": "code",
   "execution_count": 28,
   "metadata": {},
   "outputs": [],
   "source": [
    "###\n",
    "# If you run the process on your device, \n",
    "# ********* un-comment-out ********* \n",
    "# the following sentences to generate predictions on test file：\n",
    "###\n",
    "\n",
    "\"\"\"\n",
    "get_pred() method automatically do predictions on test data in databunch.\n",
    "\n",
    "Note:\n",
    "1. Generate databunch\n",
    "data_bunch = (...\n",
    "              .add_test(test_df)\n",
    "              ...)\n",
    "2. Use *.detach().cpu() to detach data to cpu since code on host \n",
    "   cannot visit or operate on data attached to GPU.\n",
    "\"\"\"\n",
    "# predictions = learner.get_preds(DatasetType.Test)[0].detach().cpu().numpy()\n",
    "\n",
    "\n",
    "\"\"\"\n",
    "These pieces of code are tricky, \n",
    "to sort the predicitons into origin order.\n",
    "\n",
    "Note:\n",
    "Since predictions are done parallelly, \n",
    "so the order is not guaranteed to keep still.\n",
    "\"\"\"\n",
    "# sampler = [i for i in data_bunch.dl(DatasetType.Test).sampler]\n",
    "# idx = np.argsort(sampler)\n",
    "# indexed_predictions = predictions[idx, :]\n",
    "# indexed_predictions = np.argmax(indexed_predictions, axis=1)\n",
    "\n",
    "\n",
    "\"\"\"\n",
    "Dump the result as submission to Kaggle.\n",
    "\"\"\"\n",
    "# test_pred_dict = {\"PhraseId\":test_df.PhraseId.values, \n",
    "#                   \"Sentiment\": indexed_predictions}\n",
    "# test_pred = pd.DataFrame(test_pred_dict)\n",
    "# i = 0\n",
    "# while os.path.exists(submission_dir+\"submission_{}.csv\".format(i)):\n",
    "#     i += 1\n",
    "# test_pred.to_csv(submission_dir+\"submission_{}.csv\".format(i), index=False)"
   ]
  },
  {
   "cell_type": "markdown",
   "metadata": {},
   "source": [
    "**NB:**\\\n",
    "[1]: [arXiv: FREEZEOUT: ACCELERATE TRAINING BY PROGRESSIVELY FREEZING LAYERS by Andrew Brock, Theodore Lim, J.M. Ritchi and Nick Weston.](https://arxiv.org/pdf/1706.04983.pdf)\n",
    "[2]: [arXiv: DistilBERT, a distilled version of BERT: smaller, faster, cheaper and lighter by Victor Sanh, Lysandre Debut, Julien Chaumond, Thomas Wolf](https://arxiv.org/abs/1910.01108)"
   ]
  },
  {
   "cell_type": "markdown",
   "metadata": {},
   "source": [
    "---\n",
    "**Karl 2020/7**"
   ]
  }
 ],
 "metadata": {
  "kernelspec": {
   "display_name": "Python [conda env:root] *",
   "language": "python",
   "name": "conda-root-py"
  },
  "language_info": {
   "codemirror_mode": {
    "name": "ipython",
    "version": 3
   },
   "file_extension": ".py",
   "mimetype": "text/x-python",
   "name": "python",
   "nbconvert_exporter": "python",
   "pygments_lexer": "ipython3",
   "version": "3.7.4"
  }
 },
 "nbformat": 4,
 "nbformat_minor": 2
}
