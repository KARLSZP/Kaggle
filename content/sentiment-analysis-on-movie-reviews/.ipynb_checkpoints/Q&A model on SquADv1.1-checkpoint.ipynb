{
 "cells": [
  {
   "cell_type": "code",
   "execution_count": 1,
   "metadata": {},
   "outputs": [],
   "source": [
    "%matplotlib inline\n",
    "import json\n",
    "import os\n",
    "import pandas as pd\n",
    "import numpy as np\n",
    "import pickle as pkl\n",
    "import matplotlib.pyplot as plt\n",
    "import seaborn as sns\n",
    "import torch\n",
    "from joblib import Parallel, delayed\n",
    "from tqdm import tqdm\n",
    "from torch import nn, optim\n",
    "from torch.utils.data import DataLoader, Dataset\n",
    "from torch.utils.data.dataset import random_split\n",
    "from transformers import BertTokenizer, AdamW, BertModel, BertPreTrainedModel, BertForQuestionAnswering\n",
    "from transformers import AlbertModel, AlbertPreTrainedModel, AlbertForQuestionAnswering, AlbertTokenizer\n",
    "from transformers import get_linear_schedule_with_warmup, squad_convert_examples_to_features\n",
    "from transformers.data.processors import SquadV1Processor, SquadExample, SquadFeatures\n",
    "\n",
    "squadv_data_path = \"./squadv1.1/\"\n",
    "train_data_path = \"./squadv1.1/train-v1.1.json\"\n",
    "dev_data_path = \"./squadv1.1/dev-v1.1.json\"\n",
    "pickle_path = \"./pickles/\"\n",
    "\n",
    "def save2pk(filename, obj):\n",
    "    try:\n",
    "        os.mkdir(pickle_path)\n",
    "    except:\n",
    "        pass\n",
    "    with open(pickle_path+filename+\".pk\", \"wb\") as pk:\n",
    "        pkl.dump(obj, pk)\n",
    "\n",
    "def readPk(filename):\n",
    "    with open(pickle_path+filename, \"rb\") as pk:\n",
    "        obj = pkl.load(pk)\n",
    "        "
   ]
  },
  {
   "cell_type": "code",
   "execution_count": 2,
   "metadata": {},
   "outputs": [],
   "source": [
    "# model = BertForQuestionAnswering.from_pretrained('bert-large-uncased-whole-word-masking-finetuned-squad')\n",
    "model = AlbertForQuestionAnswering.from_pretrained('albert-base-v2')\n",
    "# model = BertForQuestionAnswering.from_pretrained('bert-base-uncased')"
   ]
  },
  {
   "cell_type": "code",
   "execution_count": 3,
   "metadata": {},
   "outputs": [],
   "source": [
    "# tokenizer = BertTokenizer.from_pretrained('bert-large-uncased-whole-word-masking-finetuned-squad')\n",
    "tokenizer = AlbertTokenizer.from_pretrained('albert-large-v2')"
   ]
  },
  {
   "cell_type": "code",
   "execution_count": 4,
   "metadata": {},
   "outputs": [
    {
     "name": "stderr",
     "output_type": "stream",
     "text": [
      "100%|██████████| 442/442 [00:26<00:00, 16.97it/s]\n"
     ]
    }
   ],
   "source": [
    "processor = SquadV1Processor()\n",
    "examples = processor.get_train_examples(squadv_data_path)"
   ]
  },
  {
   "cell_type": "code",
   "execution_count": 5,
   "metadata": {
    "scrolled": false
   },
   "outputs": [
    {
     "name": "stderr",
     "output_type": "stream",
     "text": [
      "convert squad examples to features: 100%|██████████| 87599/87599 [04:31<00:00, 322.75it/s]\n",
      "add example index and unique id: 100%|██████████| 87599/87599 [00:00<00:00, 1051258.18it/s]\n"
     ]
    }
   ],
   "source": [
    "max_seq_length = 512\n",
    "max_query_length = 128\n",
    "doc_stride = 3\n",
    "parallel_size_per_worker = 10000\n",
    "\n",
    "features = squad_convert_examples_to_features(\n",
    "    examples=examples,\n",
    "    tokenizer=tokenizer,\n",
    "    max_seq_length=max_seq_length,\n",
    "    doc_stride=doc_stride,\n",
    "    max_query_length=max_query_length,\n",
    "    is_training=True,\n",
    "    return_dataset='pt',\n",
    "    threads=6\n",
    ")"
   ]
  },
  {
   "cell_type": "code",
   "execution_count": 6,
   "metadata": {},
   "outputs": [],
   "source": [
    "save2pk(\"features\", features)"
   ]
  },
  {
   "cell_type": "code",
   "execution_count": 206,
   "metadata": {},
   "outputs": [],
   "source": [
    "pt_input_ids = [i[0] for i in features[1]]\n",
    "pt_attention_mask = [i[1] for i in features[1]]\n",
    "pt_token_type_ids = [i[2] for i in features[1]]\n",
    "pt_start_logits = [i[3] for i in features[1]]\n",
    "pt_end_logits = [i[4] for i in features[1]]"
   ]
  },
  {
   "cell_type": "code",
   "execution_count": 208,
   "metadata": {},
   "outputs": [],
   "source": [
    "pt_dict = {\n",
    "    \"size\": len(features[1]),\n",
    "    \"input_ids\": pt_input_ids,\n",
    "    \"token_type_ids\": pt_token_type_ids,\n",
    "    \"attention_mask\": pt_attention_mask,\n",
    "    \"start_logits\": pt_start_logits,\n",
    "    \"end_logits\": pt_end_logits\n",
    "}"
   ]
  },
  {
   "cell_type": "code",
   "execution_count": 4,
   "metadata": {},
   "outputs": [],
   "source": [
    "with open(train_data_path, 'r') as f:\n",
    "    train_data = json.load(f)\n",
    "\n",
    "with open(dev_data_path, 'r') as f:\n",
    "    dev_data = json.load(f)"
   ]
  },
  {
   "cell_type": "code",
   "execution_count": 5,
   "metadata": {},
   "outputs": [],
   "source": [
    "def data2df(data):\n",
    "    samples = []\n",
    "    for i in data['data']:\n",
    "        for j in i['paragraphs']:\n",
    "            for t in j['qas']:\n",
    "                for k in t['answers']:\n",
    "                    sample = [i['title'], j['context']]\n",
    "                    sample += k.values()\n",
    "                sample += list(t.values())[1:]\n",
    "                samples.append(tuple(sample))\n",
    "    full_df = pd.DataFrame(samples, columns=['title', 'context', 'answer_start', 'answer', 'question', 'q_id'])\n",
    "    return full_df, full_df[['q_id', 'context', 'question', 'answer_start', 'answer']]"
   ]
  },
  {
   "cell_type": "code",
   "execution_count": 6,
   "metadata": {
    "scrolled": true
   },
   "outputs": [],
   "source": [
    "full_df, df = data2df(train_data)"
   ]
  },
  {
   "cell_type": "code",
   "execution_count": 7,
   "metadata": {
    "scrolled": true
   },
   "outputs": [
    {
     "data": {
      "text/html": [
       "<div>\n",
       "<style scoped>\n",
       "    .dataframe tbody tr th:only-of-type {\n",
       "        vertical-align: middle;\n",
       "    }\n",
       "\n",
       "    .dataframe tbody tr th {\n",
       "        vertical-align: top;\n",
       "    }\n",
       "\n",
       "    .dataframe thead th {\n",
       "        text-align: right;\n",
       "    }\n",
       "</style>\n",
       "<table border=\"1\" class=\"dataframe\">\n",
       "  <thead>\n",
       "    <tr style=\"text-align: right;\">\n",
       "      <th></th>\n",
       "      <th>q_id</th>\n",
       "      <th>context</th>\n",
       "      <th>question</th>\n",
       "      <th>answer_start</th>\n",
       "      <th>answer</th>\n",
       "    </tr>\n",
       "  </thead>\n",
       "  <tbody>\n",
       "    <tr>\n",
       "      <td>0</td>\n",
       "      <td>5733be284776f41900661182</td>\n",
       "      <td>Architecturally, the school has a Catholic cha...</td>\n",
       "      <td>To whom did the Virgin Mary allegedly appear i...</td>\n",
       "      <td>515</td>\n",
       "      <td>Saint Bernadette Soubirous</td>\n",
       "    </tr>\n",
       "    <tr>\n",
       "      <td>1</td>\n",
       "      <td>5733be284776f4190066117f</td>\n",
       "      <td>Architecturally, the school has a Catholic cha...</td>\n",
       "      <td>What is in front of the Notre Dame Main Building?</td>\n",
       "      <td>188</td>\n",
       "      <td>a copper statue of Christ</td>\n",
       "    </tr>\n",
       "    <tr>\n",
       "      <td>2</td>\n",
       "      <td>5733be284776f41900661180</td>\n",
       "      <td>Architecturally, the school has a Catholic cha...</td>\n",
       "      <td>The Basilica of the Sacred heart at Notre Dame...</td>\n",
       "      <td>279</td>\n",
       "      <td>the Main Building</td>\n",
       "    </tr>\n",
       "  </tbody>\n",
       "</table>\n",
       "</div>"
      ],
      "text/plain": [
       "                       q_id  \\\n",
       "0  5733be284776f41900661182   \n",
       "1  5733be284776f4190066117f   \n",
       "2  5733be284776f41900661180   \n",
       "\n",
       "                                             context  \\\n",
       "0  Architecturally, the school has a Catholic cha...   \n",
       "1  Architecturally, the school has a Catholic cha...   \n",
       "2  Architecturally, the school has a Catholic cha...   \n",
       "\n",
       "                                            question  answer_start  \\\n",
       "0  To whom did the Virgin Mary allegedly appear i...           515   \n",
       "1  What is in front of the Notre Dame Main Building?           188   \n",
       "2  The Basilica of the Sacred heart at Notre Dame...           279   \n",
       "\n",
       "                       answer  \n",
       "0  Saint Bernadette Soubirous  \n",
       "1   a copper statue of Christ  \n",
       "2           the Main Building  "
      ]
     },
     "execution_count": 7,
     "metadata": {},
     "output_type": "execute_result"
    }
   ],
   "source": [
    "df.head(3)"
   ]
  },
  {
   "cell_type": "code",
   "execution_count": 8,
   "metadata": {},
   "outputs": [],
   "source": [
    "test_context = df.loc[0]['context']\n",
    "test_quest = df.loc[0]['question']\n",
    "\n",
    "indexed_tokens = tokenizer.encode(test_context, test_quest)\n",
    "tokens = tokenizer.convert_ids_to_tokens(indexed_tokens)"
   ]
  },
  {
   "cell_type": "code",
   "execution_count": 10,
   "metadata": {},
   "outputs": [],
   "source": [
    "class ContextQuestionDataset(Dataset):\n",
    "    \n",
    "    def __init__(self, data, answer=None):\n",
    "        super(ContextQuestionDataset, self).__init__()\n",
    "        self._data = data\n",
    "        self._answer = answer\n",
    "        if answer is not None:\n",
    "            self._q2answer = {i[1]:answer[idx] for idx, i in enumerate(data)}\n",
    "            \n",
    "    def __getitem__(self, i):\n",
    "        return self._data[i]\n",
    "\n",
    "    def __len__(self):\n",
    "        return len(self._data)\n",
    "\n",
    "    def __iter__(self):\n",
    "        for x in self._data:\n",
    "            yield x\n",
    "\n",
    "    def get_answer(self, question):\n",
    "        if self._answer is not None:\n",
    "            return self._q2answer[question]\n",
    "        else:\n",
    "            raise \"No answer given.\"\n",
    "\n",
    "def buildDataset(df, answer=None):\n",
    "    train_data = df[['context', 'question']].values\n",
    "    train_data = [(i[0], i[1]) for i in train_data]\n",
    "    return ContextQuestionDataset(train_data, answer)\n",
    "\n",
    "\n",
    "\n",
    "def tokenize(batch, answer):\n",
    "    return tokenizer.batch_encode_plus(batch, return_tensors=\"pt\", pad_to_max_length=True), answer\n",
    "\n",
    "def buildBatch(dataset):\n",
    "    num_batches = int(len(dataset) / BATCH_SIZE) + 1\n",
    "    \n",
    "    batches = []\n",
    "    answers_batches = []\n",
    "    for i in range(num_batches-1):\n",
    "        batch = [dataset[i*BATCH_SIZE + j] for j in range(BATCH_SIZE)]\n",
    "        batches.append(batch)\n",
    "        answer = [dataset.get_answer(dataset[i*BATCH_SIZE + j][1]) for j in range(BATCH_SIZE)]\n",
    "        answers_batches.append(answer)\n",
    "    \n",
    "    rest = len(dataset) - len(batches) * BATCH_SIZE\n",
    "    batch = [dataset[j] for j in range(len(dataset)-rest, len(dataset))]\n",
    "    batches.append(batch)\n",
    "    answer = [dataset.get_answer(dataset[j][1]) for j in range(len(dataset)-rest, len(dataset))]\n",
    "    answers_batches.append(answer)\n",
    "    \n",
    "    assert len(dataset) == (len(batches)-1)*BATCH_SIZE + rest\n",
    "    \n",
    "    tokens_batches = Parallel(n_jobs=-2, backend=\"threading\", verbose=10)(delayed(tokenize)(batch, answers_batches[i]) for i, batch in enumerate(batches))\n",
    "    \n",
    "    return tokens_batches"
   ]
  },
  {
   "cell_type": "code",
   "execution_count": 12,
   "metadata": {
    "collapsed": true
   },
   "outputs": [
    {
     "name": "stderr",
     "output_type": "stream",
     "text": [
      "[Parallel(n_jobs=-2)]: Using backend ThreadingBackend with 7 concurrent workers.\n",
      "[Parallel(n_jobs=-2)]: Done   4 tasks      | elapsed:    0.7s\n",
      "[Parallel(n_jobs=-2)]: Done  11 tasks      | elapsed:    1.1s\n",
      "[Parallel(n_jobs=-2)]: Done  18 tasks      | elapsed:    1.5s\n",
      "[Parallel(n_jobs=-2)]: Done  27 tasks      | elapsed:    2.0s\n",
      "[Parallel(n_jobs=-2)]: Done  36 tasks      | elapsed:    2.5s\n",
      "[Parallel(n_jobs=-2)]: Done  47 tasks      | elapsed:    3.1s\n",
      "[Parallel(n_jobs=-2)]: Done  58 tasks      | elapsed:    3.6s\n",
      "[Parallel(n_jobs=-2)]: Done  71 tasks      | elapsed:    4.2s\n",
      "[Parallel(n_jobs=-2)]: Done  84 tasks      | elapsed:    4.8s\n",
      "[Parallel(n_jobs=-2)]: Done  99 tasks      | elapsed:    5.6s\n",
      "[Parallel(n_jobs=-2)]: Done 114 tasks      | elapsed:    6.3s\n",
      "[Parallel(n_jobs=-2)]: Done 131 tasks      | elapsed:    7.2s\n",
      "[Parallel(n_jobs=-2)]: Done 157 out of 157 | elapsed:    8.2s finished\n"
     ]
    }
   ],
   "source": [
    "train_data = buildDataset(df.loc[:10000], df.loc[:10000].answer.values)\n",
    "\n",
    "train_len = int(len(train_data) * 0.95)\n",
    "train, test = random_split(train_data, [train_len, len(train_data) - train_len])\n",
    "\n",
    "train_batches = buildBatch(train_data)"
   ]
  },
  {
   "cell_type": "code",
   "execution_count": null,
   "metadata": {
    "collapsed": true
   },
   "outputs": [
    {
     "name": "stdout",
     "output_type": "stream",
     "text": [
      "   |   Saint Bernadette Soubirous\n",
      "   |   a copper statue of Christ\n",
      "mary. immediately in front of the main building and facing it, is a copper statue of christ with arms upraised with the legend \"venite ad me omnes\". next to the main building is the basilica of the sacred   |   the Main Building\n",
      "   |   a Marian place of prayer and reflection\n",
      "   |   a golden statue of the Virgin Mary\n",
      "one-page journal in september 1876, the scholastic magazine is issued twice monthly and claims to be the oldest continuous collegiate publication in the united states. the other magazine, the juggler, is released twice a year and focuses on student literature and artwork. the dome yearbook is published annually. the newspapers have varying publication interests, with the observer published daily and mainly reporting university and other news, and staffed by students from both notre dame and saint mary's college. unlike scholastic and the dome, the observer is an independent publication and does not have a faculty advisor or any editorial oversight from the university. in 1987, when some students believed that the observer began   |   September 1876\n",
      "an independent publication and does not have a faculty advisor or any editorial oversight from the university. in 1987, when   |   twice\n",
      "other universities, notre dame's students run a number of news media outlets. the nine student-run outlets include three newspapers, both a radio and television station, and several magazines and journals. begun as a one-page journal in september 1876, the scholastic magazine is issued twice monthly and claims to be the oldest continuous collegiate publication in the united states. the other magazine, the juggler, is released twice a year and focuses on student literature and artwork. the dome yearbook is published annually. the newspapers have varying publication interests, with the observer published daily and mainly reporting university and other news, and staffed by students from both notre dame and saint mary's college. unlike scholastic and the dome, the observer is an independent publication and does not have a faculty advisor or any editorial oversight from the university. in 1987, when   |   The Observer\n",
      "other universities, notre dame's students run a number of news media outlets. the nine student-run outlets include three newspapers, both a radio and television station, and several magazines and journals. begun as a one-page journal in september 1876, the scholastic magazine is issued twice monthly and claims to be the oldest continuous collegiate publication in the united states. the other magazine, the juggler, is released twice a year and focuses on student literature and artwork. the dome yearbook is published annually. the newspapers have varying publication interests, with the observer published daily and mainly reporting university and other news, and staffed by students from both notre dame and saint mary's college. unlike scholastic and the dome, the observer is an independent publication and does not have a faculty advisor or any editorial oversight from the university. in 1987, when   |   three\n",
      "other universities, notre dame's students run a number of news media outlets. the nine student-run outlets include three newspapers, both a radio and television station, and several magazines and journals. begun as a one-page journal in september 1876, the scholastic magazine is issued twice monthly and claims to be the oldest continuous collegiate publication in the united states. the other magazine, the juggler, is released twice a year and focuses on student literature and artwork. the dome yearbook is published annually. the newspapers have varying publication interests, with the observer published daily and mainly reporting university and other news, and staffed by students from both notre dame and saint mary's college. unlike scholastic and the dome, the observer is an independent publication and does not have a faculty advisor or any editorial oversight from the university. in 1987, when some students believed that the observer began   |   1987\n",
      "   |   Rome\n",
      "   |   Moreau Seminary\n",
      "   |   Old College\n",
      "a former retreat center), holy cross house, as well as columba hall near the grotto. the university through the moreau seminary has ties to theologian frederick buechner. while   |   Retired priests and brothers\n",
      "   |   Buechner Prize for Preaching\n",
      ", however, early courses in civil and mechanical engineering were a part of the college of science since the 1870s. today the college, housed in the fitzpatrick, cushing, and stinson-remick halls of engineering, includes five departments of study – aerospace and mechanical engineering, chemical and biomolecular engineering, civil engineering and geological sciences, computer science and engineering, and electrical engineering – with eight b.s. degrees offered. additionally, the college offers five-year dual degree programs with the colleges of arts and letters   |   eight\n",
      ", however, early courses in civil and mechanical engineering were a part of the college of science since the 1870s. today the college, housed in the fitzpatrick, cushing, and stinson-remick halls of engineering, includes five departments of study – aerospace and mechanical engineering, chemical and biomolecular engineering, civil engineering and geological sciences, computer science and engineering, and electrical engineering – with eight b.s. degrees offered. additionally, the college offers five-year dual degree programs with the colleges of arts and letters   |   1920\n",
      ", however, early courses in civil and mechanical engineering were a part of the college of science since the 1870s. today the college, housed in the fitzpatrick, cushing, and stinson-remick halls of engineering, includes five departments of study – aerospace and mechanical engineering, chemical and biomolecular engineering, civil engineering and geological sciences, computer science and engineering, and electrical engineering – with eight b.s. degrees offered. additionally, the college offers five-year dual degree programs with the colleges of arts and letters   |   the College of Science\n",
      "-remick halls of engineering, includes five departments of study – aerospace and mechanical engineering, chemical and biomolecular engineering, civil engineering and geological sciences, computer science and engineering, and electrical engineering – with eight b.s. degrees offered. additionally, the college offers five-year dual degree programs with the colleges of arts and letters   |   five\n",
      "   |   the 1870s\n",
      "was established in 1962 to guide incoming freshmen in their first year at the school before they have declared a major. each student is given an academic advisor from the program who helps them to choose classes that give them exposure to any major in which they are interested. the program also includes a learning resource center which provides time management, collaborative learning, and subject tutoring. this program has been recognized previously, by u.s. news & world report, as outstanding.[SEP] what entity provides help with the management of time for new students at notre dame?[SEP]<pad><pad><pad><pad><pad><pad><pad><pad><pad><pad><pad><pad><pad><pad><pad><pad><pad><pad><pad><pad><pad><pad><pad><pad><pad><pad><pad><pad><pad><pad><pad><pad><pad><pad><pad><pad><pad><pad><pad><pad><pad><pad><pad><pad><pad><pad><pad><pad><pad><pad><pad><pad><pad><pad><pad><pad><pad><pad><pad><pad><pad><pad><pad><pad><pad><pad><pad><pad><pad><pad><pad><pad><pad><pad><pad><pad><pad><pad><pad><pad><pad><pad><pad><pad><pad><pad><pad><pad><pad><pad><pad><pad><pad><pad><pad><pad><pad><pad><pad><pad><pad><pad><pad><pad><pad><pad><pad><pad><pad><pad><pad><pad><pad><pad><pad><pad><pad><pad><pad><pad><pad><pad><pad><pad><pad><pad>   |   Learning Resource Center\n",
      "was established in 1962 to guide incoming freshmen in their first year at the school before they have declared a major. each student is given an academic advisor from the program who helps them to choose classes that give them exposure to any major in which they are interested. the program also includes a learning resource center which provides time management, collaborative learning, and subject tutoring. this program has been recognized previously, by u.s. news & world report, as outstanding.[SEP] how many colleges for undergraduates are at notre dame?[SEP]<pad><pad><pad><pad><pad><pad><pad><pad><pad><pad><pad><pad><pad><pad><pad><pad><pad><pad><pad><pad><pad><pad><pad><pad><pad><pad><pad><pad><pad><pad><pad><pad><pad><pad><pad><pad><pad><pad><pad><pad><pad><pad><pad><pad><pad><pad><pad><pad><pad><pad><pad><pad><pad><pad><pad><pad><pad><pad><pad><pad><pad><pad><pad><pad><pad><pad><pad><pad><pad><pad><pad><pad><pad><pad><pad><pad><pad><pad><pad><pad><pad><pad><pad><pad><pad><pad><pad><pad><pad><pad><pad><pad><pad><pad><pad><pad><pad><pad><pad><pad><pad><pad><pad><pad><pad><pad><pad><pad><pad><pad><pad><pad><pad><pad><pad><pad><pad><pad><pad><pad><pad><pad><pad><pad><pad><pad><pad><pad><pad><pad><pad>   |   five\n",
      "of one of the five undergraduate colleges at the school or are in the first year of studies program. the first year of studies program was established in 1962 to guide incoming freshmen in their first year at the school before   |   The First Year of Studies program\n",
      "was established in 1962 to guide incoming freshmen in their first year at the school before they have declared a major. each student is given an academic advisor from the program who helps them to choose classes that give them exposure to any major in which they are interested. the program also includes a learning resource center which provides time management, collaborative learning, and subject tutoring. this program has been recognized previously, by u.s. news & world report, as outstanding.[SEP] which organization declared the first year of studies program at notre dame \"outstanding?\"[SEP]<pad><pad><pad><pad><pad><pad><pad><pad><pad><pad><pad><pad><pad><pad><pad><pad><pad><pad><pad><pad><pad><pad><pad><pad><pad><pad><pad><pad><pad><pad><pad><pad><pad><pad><pad><pad><pad><pad><pad><pad><pad><pad><pad><pad><pad><pad><pad><pad><pad>   |   U.S. News & World Report\n",
      ", in the form of a master of arts (ma), in the 1854–1855 academic year. the program expanded to include master of laws (ll.m.) and master of civil engineering in its early stages of growth, before a formal graduate school education was developed with a thesis not required to receive the degrees. this changed in 1924 with formal requirements developed for graduate degrees, including offering doctorate (phd) degrees. today each of the five colleges offer graduate education. most of the departments from the college of arts and letters offer phd programs, while a professional master of divinity   |   1924\n",
      ", in the form of a master of arts (ma), in the 1854–1855 academic year. the program expanded to include master of laws (ll.m.) and master of civil engineering in its early stages of growth, before a formal graduate school education was developed with a thesis not required to receive the degrees. this changed in 1924 with formal requirements developed for graduate degrees, including offering doctorate (phd) degrees. today each of the five colleges offer graduate education. most of the departments from the college of arts and letters offer phd programs, while a professional master of divinity   |   Master of Divinity\n",
      ", in the form of a master of arts (ma), in the 1854–1855 academic year. the program expanded to include master of laws (ll.m.) and master of civil engineering in its early stages of growth, before a formal graduate school education was developed with a thesis not required to receive the degrees. this changed in 1924 with formal requirements developed for graduate degrees, including offering doctorate (phd) degrees. today each of the five colleges offer graduate education. most of the departments from the college of arts and letters offer phd programs, while a professional master of divinity   |   Alliance for Catholic Education\n",
      ", in the form of a master of arts (ma), in the 1854–1855 academic year. the program expanded to include master of laws (ll.m.) and master of civil engineering in its early stages of growth, before a formal graduate school education was developed with a thesis not required to receive the degrees. this changed in 1924 with formal requirements developed for graduate degrees, including offering doctorate (phd) degrees. today each of the five colleges offer graduate education. most of the departments from the college of arts and letters offer phd programs, while a professional master of divinity   |   1854\n",
      "of the five colleges offer graduate education. most of the departments from the college of arts and letters offer phd programs, while a professional master of divinity   |   Department of Pre-Professional Studies\n",
      "   |   Joan B. Kroc Institute for International Peace Studies\n",
      "   |   President Emeritus of the University of Notre Dame\n",
      "   |   1986\n",
      "   |   Ray Kroc\n",
      "   |   McDonald's\n",
      "third building to house the main collection of books. the front of the library is adorned with the word of life mural designed by artist millard sheets. this mural is popularly known as \"touchdown jesus\"   |   14\n",
      "third building to house the main collection of books. the front of the library is adorned with the word of life mural designed by artist millard sheets. this mural is popularly known as \"touchdown jesus\"   |   Theodore M. Hesburgh Library\n",
      "to house the main collection of books. the front of the library is adorned with the word of life mural designed by artist millard sheets. this mural is popularly known as \"touchdown jesus\"   |   1963\n",
      "third building to house the main collection of books. the front of the library is adorned with the word of life mural designed by artist millard sheets. this mural is popularly known as \"touchdown jesus\"   |   Millard Sheets\n",
      "third building to house the main collection of books. the front of the library is adorned with the word of life mural designed by artist millard sheets. this mural is popularly known as \"touchdown jesus\"   |   Touchdown Jesus\n",
      ", with the incoming class enrolling in fall 2015 admitting 3,577 from a pool of 18,156 (19.7%). the academic profile of the enrolled class continues to rate among the top 10 to 15 in the nation for national research universities. the university practices a non-restrictive early action policy that allows admitted students to consider admission to notre dame as well as any other colleges to which they were accepted. 1,400 of the 3,577 (39.1%) were admitted under the early action plan. admitted students came from 1,311 high schools and the average student traveled more than 750 miles to notre dame, making it arguably the most representative university in the united states. while all entering students begin in the college of the first year of studies, 25% have indicated they plan to study in the liberal arts or social sciences, 24% in engineering, 24% in business, 24% in science, and 3% in architecture.[SEP] how many incoming students did notre dame admit in fall 2015?[SEP]<pad><pad><pad><pad><pad><pad><pad><pad><pad><pad><pad>   |   3,577\n",
      ", with the incoming class enrolling in fall 2015 admitting 3,577 from a pool of 18,156 (19.7%). the academic profile of the enrolled class continues to rate among the top 10 to 15 in the nation for national research universities. the university practices a non-restrictive early action policy that allows admitted students to consider admission to notre dame as well as any other colleges to which they were accepted. 1,400 of the 3,577 (39.1%) were admitted under the early action plan. admitted students came from 1,311 high schools and the average student traveled more than 750 miles to notre dame, making it arguably the most representative university in the united states. while all entering students begin in the college of the first year of studies, 25% have indicated they plan to study in the liberal arts or social sciences, 24% in engineering, 24% in business, 24% in science, and 3% in architecture.[SEP] what percentage of students were admitted to notre dame in fall 2015?[SEP]<pad><pad><pad><pad><pad><pad><pad><pad><pad><pad>   |   19.7%\n",
      "united states. while all entering students begin in the college of the first year of studies, 25% have indicated they plan to study in the liberal arts or social sciences, 24% in engineering, 24% in business, 24% in science, and 3% in architecture.[SEP] where does notre dame rank in terms of academic profile among research universities in the us?[SEP]<pad><pad><pad><pad><pad><pad><pad><pad><pad><pad><pad><pad><pad>   |   the top 10 to 15 in the nation\n",
      ",577 from a pool of 18,156 (19.7%). the academic profile of the enrolled class continues to rate among the top 10 to 15 in the nation for national research universities. the university practices a non-restrictive early action policy that allows admitted students to consider admission to notre dame as well as any other colleges to which they were accepted. 1,400 of the 3,577 (39.1%) were admitted under the early action plan. admitted students came from 1,311 high schools and the average student traveled more than 750 miles to notre dame, making it arguably the most representative university in the united states. while all entering students begin in the college of the first year of studies, 25% have indicated they plan to study in the liberal arts or social sciences, 24% in engineering, 24% in business, 24% in science, and 3% in architecture.[SEP] what percentage of students at notre dame participated in the early action program?[SEP]<pad><pad><pad><pad><pad><pad>   |   39.1%\n",
      ",577 from a pool of 18,156 (19.7%). the academic profile of the enrolled class continues to rate among the top 10 to 15 in the nation for national research universities. the university practices a non-restrictive early action policy that allows admitted students to consider admission to notre dame as well as any other colleges to which they were accepted. 1,400 of the 3,577 (39.1%) were admitted under the early action plan. admitted students came from 1,311 high schools and the average student traveled more than 750 miles to notre dame, making it arguably the most representative university in the united states. while all entering students begin in the college of the first year of studies, 25% have indicated they plan to study in the liberal arts or social sciences, 24% in engineering, 24% in business, 24% in science, and 3% in architecture.[SEP] how many miles does the average student at notre dame travel to study there?[SEP]<pad><pad><pad><pad><pad><pad><pad><pad>   |   more than 750 miles\n",
      "united states in u.s. news & world report's best colleges 2016. in 2014, usa today ranked notre dame 10th overall for american universities based on data from college factual. forbes.com's america's best colleges ranks notre dame 13th among colleges in the united states in 2015, 8th among research universities, and 1st in the midwest. u.s. news & world report also lists notre dame law school as 22nd overall. businessweek ranks mendoza college of business undergraduate school as 1st overall. it ranks the mba program as 20th overall. the philosophical gourmet report ranks notre dame's graduate philosophy program as 15th nationally, while architect magazine ranked the undergraduate architecture program as 12th nationally. additionally, the study abroad program ranks sixth in highest participation percentage in the nation, with 57.6% of students choosing to study abroad in 17 countries. according to payscale.com, undergraduate alumni of university of notre dame have a mid-career median salary $110,000, making it the 24th highest among colleges and universities in the united states. the median starting salary of $55,300 ranked 58th in the same peer group.[SEP] where did u.s. news & world report rank notre dame in its   |   18th overall\n",
      "st in the midwest. u.s. news & world report also lists notre dame law school as 22nd overall. businessweek ranks mendoza college   |   8th\n",
      "   |   1st overall\n",
      "united states in u.s. news & world report's best colleges 2016. in 2014, usa today ranked notre dame 10th overall for american universities based on data from college factual. forbes.com's america's best colleges ranks notre dame 13th among colleges in the united states in 2015, 8th among research universities, and 1st in the midwest. u.s. news & world report also lists notre dame law school as 22nd overall. businessweek ranks mendoza college   |   USA Today\n",
      "united states in u.s. news & world report's best colleges 2016. in 2014, usa today ranked notre dame 10th overall for american universities based on data from college factual. forbes.com's america's best colleges ranks notre dame 13th among colleges in the united states in 2015, 8th among research universities, and 1st in the midwest. u.s. news & world report also lists notre dame law school as 22nd overall. businessweek ranks mendoza college of business undergraduate school as 1st overall. it ranks the mba program as 20th overall. the philosophical gourmet report ranks notre dame's graduate philosophy program as 15th nationally, while architect magazine ranked the undergraduate architecture program as 12th nationally. additionally, the study abroad program ranks sixth in highest participation percentage in the nation, with 57.   |   57.6%\n",
      "   |   Father Joseph Carrier, C.S.C.\n",
      "   |   1851–1921\n",
      "   |   the Science Department\n",
      "   |   Evolution and Dogma\n",
      "   |   Professor of Chemistry and Physics\n",
      "an early wind tunnel used to compare lift to drag of aeronautical models. around 1899, professor jerome green became the first american to send a wireless message. in 1931, father julius nieuwland performed early work on basic reactions that was used to create neoprene. study of nuclear   |   1882\n",
      "1931, father julius nieuwland performed early work on basic reactions that was used to create neoprene. study of nuclear physics at the university began with the building of a nuclear accelerator in 1936, and continues now partly through a partnership in the joint institute for nuclear astrophysics.[SEP] which professor sent the first wireless message in the usa?[SEP]<pad><pad><pad><pad><pad><pad><pad><pad><pad><pad><pad><pad><pad><pad><pad><pad><pad><pad><pad><pad><pad><pad><pad><pad><pad><pad><pad><pad><pad>   |   Professor Jerome Green\n",
      ", father julius nieuwland performed early work on basic reactions that was used to create neoprene. study of nuclear physics at the university began with the building of a nuclear accelerator in 1936, and continues now partly through a partnership in the joint institute for nuclear astrophysics.[SEP] in what year did jerome green send his first wireless message?[SEP]<pad><pad><pad><pad><pad><pad><pad><pad><pad><pad><pad><pad><pad><pad><pad><pad><pad><pad><pad><pad><pad><pad><pad><pad><pad><pad><pad><pad>   |   Around 1899\n",
      ", albert zahm (john zahm's brother) built an early wind tunnel used to compare lift to drag of aeronautical models. around 1899, professor jerome green became the first american to send a wireless message. in 1931, father julius nieuwland performed early work on basic reactions that was used to create neoprene. study of nuclear physics at the university began with the building of a nuclear accelerator in 1936, and continues now partly through a partnership in the joint institute for nuclear astrophysics.[SEP] which individual worked on projects at notre dame that eventually created neoprene?[SEP]<pad><pad><pad><pad><pad><pad><pad><pad><pad><pad><pad><pad><pad><pad><pad><pad><pad><pad><pad><pad><pad><pad><pad><pad><pad>   |   Father Julius Nieuwland\n",
      "an early wind tunnel used to compare lift to drag of aeronautical models. around 1899, professor jerome green became the first american to send a wireless message. in 1931, father julius nieuwland performed early work on basic reactions that was used to create neoprene. study of nuclear physics at the university began with the building of a nuclear accelerator in 1936, and continues now partly through a partnership in the joint institute for nuclear astrophysics.[SEP] what did the brother of john zahm construct at notre dame?[SEP]<pad><pad><pad><pad><pad><pad><pad><pad><pad><pad><pad><pad><pad><pad><pad><pad><pad><pad><pad><pad><pad><pad><pad><pad><pad><pad><pad>   |   an early wind tunnel\n",
      "to whether   |   The Lobund Institute\n",
      "-free-life which began in 1928. this area of research originated in a question posed by pasteur as to whether animal life was possible without bacteria. though   |   the 1940s\n",
      "-free-life which began in 1928. this area of research originated in a question posed by pasteur as to whether animal life was possible without bacteria. though   |   1950\n",
      "-free-life which began in 1928. this area of research originated in a question posed by pasteur as to whether animal life was possible without bacteria. though   |   1958\n",
      "to whether animal life was possible without bacteria. though others had taken up this idea, their research was short lived and inconclusive. lobund was the first research organization to answer definitively, that such life is possible and that it can be prolonged through generations. but the objective was not merely to answer pasteur's question but also to produce the germ free animal as a new tool for biological and medical   |   1928\n"
     ]
    }
   ],
   "source": [
    "for tokens_batch, answers_batch in train_batches:\n",
    "    with torch.no_grad():\n",
    "        start_logits, end_logits = model(input_ids=tokens_batch['input_ids'],\n",
    "                                         token_type_ids=tokens_batch['token_type_ids'],\n",
    "                                         attention_mask=tokens_batch['attention_mask'])\n",
    "        start_logits = torch.argmax(start_logits, axis=1)\n",
    "        end_logits = torch.argmax(end_logits, axis=1)+1        \n",
    "        answer = tokenizer.batch_decode([tokens_batch['input_ids'][i][start_logits[i]:end_logits[i]] for i in range(len(start_logits))])\n",
    "        for i, ans in enumerate(answer):\n",
    "            print(ans,\"  |  \", answers_batch[i])\n",
    "        input()"
   ]
  },
  {
   "cell_type": "code",
   "execution_count": 211,
   "metadata": {},
   "outputs": [
    {
     "data": {
      "text/plain": [
       "dict_keys(['size', 'input_ids', 'token_type_ids', 'attention_mask', 'start_logits', 'end_logits'])"
      ]
     },
     "execution_count": 211,
     "metadata": {},
     "output_type": "execute_result"
    }
   ],
   "source": [
    "pt_dict.keys()"
   ]
  },
  {
   "cell_type": "code",
   "execution_count": 218,
   "metadata": {},
   "outputs": [],
   "source": [
    "class QADataset(Dataset):\n",
    "    \n",
    "    def __init__(self, pt_dict):\n",
    "        super(QADataset, self).__init__()\n",
    "        self.size = pt_dict[\"size\"]\n",
    "        self.input_ids = pt_dict[\"input_ids\"]\n",
    "        self.token_type_ids = pt_dict[\"token_type_ids\"]\n",
    "        self.attention_mask = pt_dict[\"attention_mask\"]\n",
    "        self.start_logits = pt_dict[\"start_logits\"]\n",
    "        self.end_logits = pt_dict[\"end_logits\"]\n",
    "        \n",
    "        \n",
    "    def __getitem__(self, i):\n",
    "        return (self.input_ids[i], \n",
    "                self.token_type_ids[i], \n",
    "                self.attention_mask[i],\n",
    "                (self.start_logits[i], self.end_logits[i]))\n",
    "\n",
    "    def __len__(self):\n",
    "        return self.size\n",
    "\n",
    "    def __iter__(self):\n",
    "        for x in range(self.size):\n",
    "            yield (self.input_ids[i],\n",
    "                   self.token_type_ids[i],\n",
    "                   self.attention_mask[i],\n",
    "                   (self.start_logits[i], self.end_logits[i]))\n",
    "\n",
    "    def get_labels(self):\n",
    "        return (self.start_logits, self.end_logits)"
   ]
  },
  {
   "cell_type": "code",
   "execution_count": 188,
   "metadata": {},
   "outputs": [],
   "source": [
    "class albertForQA_SquADv1(AlbertPreTrainedModel):\n",
    "    def __init__(self, config):\n",
    "        super(albertForQA_SquADv1, self).__init__(config)\n",
    "        self.albert = AlbertModel(config)\n",
    "        self.qa_outputs = nn.Linear(config.hidden_size, 2)\n",
    "        self.init_weights()\n",
    "        \n",
    "    \n",
    "    def forward(self, input_ids, \n",
    "                attention_mask=None, token_type_ids=None, \n",
    "                position_ids=None, head_mask=None):\n",
    "        \n",
    "        answer = self.albert(input_ids=input_ids,\n",
    "                             attention_mask=attention_mask,\n",
    "                             token_type_ids=token_type_ids,\n",
    "                             position_ids=position_ids,\n",
    "                             head_mask=head_mask)\n",
    "        \n",
    "        answer = self.qa_outputs(answer)\n",
    "        start_logits, end_logits = answer.split(1, dim=-1)\n",
    "        \n",
    "        return start_logits, end_logits"
   ]
  },
  {
   "cell_type": "code",
   "execution_count": 189,
   "metadata": {},
   "outputs": [],
   "source": [
    "def lossCrossEntropy(predicts, labels):\n",
    "    start_logits, end_logits = predicts\n",
    "    start_labels, end_labels = labels\n",
    "    \n",
    "    CrossEntropy = nn.CrossEntropyLoss(ignore_index=-1)\n",
    "    start_loss = CrossEntropy(start_logits, start_labels)\n",
    "    end_loss = CrossEntropy(end_logits, end_labels)\n",
    "\n",
    "    return start_loss, end_loss"
   ]
  },
  {
   "cell_type": "code",
   "execution_count": 238,
   "metadata": {},
   "outputs": [],
   "source": [
    "# model.to(device)\n",
    "\n",
    "params_to_tune = list(model.named_parameters())\n",
    "params_no_decay = ['bias', 'LayerNorm.bias', 'LayerNorm.weight']\n",
    "\n",
    "params_with_weight = [\n",
    "    {'params': [p for n, p in params_to_tune if not any(i in n for i in params_no_decay)], 'weight_decay': 0.01},\n",
    "    {'params': [p for n, p in params_to_tune if any(i in n for i in params_no_decay)], 'weight_decay': 0.0}]\n",
    "\n",
    "EPOCHS = 100\n",
    "TRAIN_RATE = 0.9\n",
    "TRAIN_SIZE = int(pt_dict[\"size\"] * TRAIN_RATE)\n",
    "BATCH_SIZE = 64\n",
    "ACCUMULATE_STRIDE = 5\n",
    "LR = 1e-5\n",
    "WARMUP_RATE = 0.1\n",
    "num_training_steps = int(EPOCHS * TRAIN_SIZE / BATCH_SIZE / ACCUMULATE_STRIDE)\n",
    "num_warmup_steps = int(num_training_steps * WARMUP_RATE)\n",
    "\n",
    "# training tools\n",
    "model = albertForQA_SquADv1.from_pretrained('albert-base-v2')\n",
    "optimizer = AdamW(params=params_with_weight, lr=LR, correct_bias=False)\n",
    "scheduler = get_linear_schedule_with_warmup(optimizer=optimizer, \n",
    "                                            num_warmup_steps=num_warmup_steps,\n",
    "                                            num_training_steps=num_training_steps)\n",
    "\n",
    "# Activate training mode\n",
    "model.zero_grad()\n",
    "model = model.train()\n",
    "\n",
    "# Prepare data\n",
    "train_data = QADataset(pt_dict)\n",
    "sub_train_,\n",
    "sub_test_ = random_split(train_data, \n",
    "                         [TRAIN_SIZE, \n",
    "                          train_data.size - TRAIN_SIZE])\n",
    "train_loader = DataLoader(sub_train_,\n",
    "                          batch_size=BATCH_SIZE,\n",
    "                          shuffle=True)"
   ]
  },
  {
   "cell_type": "code",
   "execution_count": 237,
   "metadata": {},
   "outputs": [
    {
     "name": "stdout",
     "output_type": "stream",
     "text": [
      "64\n",
      "64\n",
      "64\n"
     ]
    }
   ],
   "source": [
    "def train_func():\n",
    "    "
   ]
  },
  {
   "cell_type": "code",
   "execution_count": null,
   "metadata": {},
   "outputs": [],
   "source": [
    "def generate_batch(batch):\n",
    "    label = torch.tensor([entry[0] for entry in batch])\n",
    "    text = [entry[1] for entry in batch]\n",
    "    offsets = [0] + [len(entry) for entry in text]\n",
    "    # torch.Tensor.cumsum returns the cumulative sum\n",
    "    # of elements in the dimension dim.\n",
    "    # torch.Tensor([1.0, 2.0, 3.0]).cumsum(dim=0)\n",
    "\n",
    "    offsets = torch.tensor(offsets[:-1]).cumsum(dim=0)\n",
    "    text = torch.cat(text)\n",
    "    return text, offsets, label"
   ]
  },
  {
   "cell_type": "code",
   "execution_count": 169,
   "metadata": {
    "scrolled": true
   },
   "outputs": [
    {
     "name": "stdout",
     "output_type": "stream",
     "text": [
      "tensor([[0.9900, 0.2000, 0.2000, 0.2000, 0.2000, 0.2000, 0.2000, 0.2000, 0.2000],\n",
      "        [0.9900, 0.2000, 0.2000, 0.2000, 0.2000, 0.2000, 0.2000, 0.2000, 0.2000],\n",
      "        [0.9900, 0.2000, 0.2000, 0.2000, 0.2000, 0.2000, 0.2000, 0.2000, 0.2000],\n",
      "        [0.9900, 0.2000, 0.2000, 0.2000, 0.2000, 0.2000, 0.2000, 0.2000, 0.2000],\n",
      "        [0.9900, 0.2000, 0.2000, 0.2000, 0.2000, 0.2000, 0.2000, 0.2000, 0.2000],\n",
      "        [0.9900, 0.2000, 0.2000, 0.2000, 0.2000, 0.2000, 0.2000, 0.2000, 0.2000]],\n",
      "       requires_grad=True) tensor([2, 2, 2, 2, 2, 2]) tensor(2.3227, grad_fn=<NllLossBackward>)\n"
     ]
    }
   ],
   "source": [
    "loss = nn.CrossEntropyLoss()\n",
    "_input = torch.tensor([[0.99,0.2,0.2,0.2,0.2,0.2,0.2,0.2,0.2],[0.99,0.2,0.2,0.2,0.2,0.2,0.2,0.2,0.2],[0.99,0.2,0.2,0.2,0.2,0.2,0.2,0.2,0.2],[0.99,0.2,0.2,0.2,0.2,0.2,0.2,0.2,0.2],[0.99,0.2,0.2,0.2,0.2,0.2,0.2,0.2,0.2],[0.99,0.2,0.2,0.2,0.2,0.2,0.2,0.2,0.2]], requires_grad=True)\n",
    "target = torch.tensor([2,2,2,2,2,2], dtype=torch.long)\n",
    "output = loss(_input, target)\n",
    "print(_input, target, output)"
   ]
  },
  {
   "cell_type": "code",
   "execution_count": null,
   "metadata": {},
   "outputs": [],
   "source": []
  }
 ],
 "metadata": {
  "kernelspec": {
   "display_name": "Python [conda env:root] *",
   "language": "python",
   "name": "conda-root-py"
  },
  "language_info": {
   "codemirror_mode": {
    "name": "ipython",
    "version": 3
   },
   "file_extension": ".py",
   "mimetype": "text/x-python",
   "name": "python",
   "nbconvert_exporter": "python",
   "pygments_lexer": "ipython3",
   "version": "3.7.4"
  }
 },
 "nbformat": 4,
 "nbformat_minor": 2
}
