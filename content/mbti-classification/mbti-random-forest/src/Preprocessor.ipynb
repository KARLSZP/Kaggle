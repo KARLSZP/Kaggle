{
 "cells": [
  {
   "cell_type": "markdown",
   "metadata": {},
   "source": [
    "**This notebook help pre-process the dataset with following steps:**\n",
    "\n",
    "- Separate each post.\n",
    "- Clean redundant content in posts.\n",
    "- Separate type into four subtype.\n",
    "\n",
    "**with pickle,**\n",
    "\n",
    "`Preprocessed dataframe is stored as df.pk`\n",
    "\n",
    "`Preprocessed tf-idf(term-frequency times inverse document-frequency) dataframe is stored as tfidf_df.pk`"
   ]
  },
  {
   "cell_type": "code",
   "execution_count": 1,
   "metadata": {},
   "outputs": [],
   "source": [
    "import numpy as np\n",
    "import pandas as pd\n",
    "import seaborn as sns\n",
    "import matplotlib.pyplot as plt\n",
    "import pickle as pk\n",
    "from utilities import clean_posts\n",
    "from sklearn.feature_extraction.text import CountVectorizer, TfidfTransformer\n",
    "\n",
    "dataset = \"../dataset/mbti-type/mbti_1.csv\""
   ]
  },
  {
   "cell_type": "markdown",
   "metadata": {},
   "source": [
    "### 1 Load and preprocess"
   ]
  },
  {
   "cell_type": "code",
   "execution_count": 2,
   "metadata": {},
   "outputs": [
    {
     "data": {
      "text/html": [
       "<div>\n",
       "<style scoped>\n",
       "    .dataframe tbody tr th:only-of-type {\n",
       "        vertical-align: middle;\n",
       "    }\n",
       "\n",
       "    .dataframe tbody tr th {\n",
       "        vertical-align: top;\n",
       "    }\n",
       "\n",
       "    .dataframe thead th {\n",
       "        text-align: right;\n",
       "    }\n",
       "</style>\n",
       "<table border=\"1\" class=\"dataframe\">\n",
       "  <thead>\n",
       "    <tr style=\"text-align: right;\">\n",
       "      <th></th>\n",
       "      <th>type</th>\n",
       "      <th>sep_posts</th>\n",
       "    </tr>\n",
       "  </thead>\n",
       "  <tbody>\n",
       "    <tr>\n",
       "      <td>0</td>\n",
       "      <td>INFJ</td>\n",
       "      <td>['http://www.youtube.com/watch?v=qsXHcwe3krw, ...</td>\n",
       "    </tr>\n",
       "    <tr>\n",
       "      <td>1</td>\n",
       "      <td>ENTP</td>\n",
       "      <td>['I'm finding the lack of me in these posts ve...</td>\n",
       "    </tr>\n",
       "    <tr>\n",
       "      <td>2</td>\n",
       "      <td>INTP</td>\n",
       "      <td>['Good one  _____   https://www.youtube.com/wa...</td>\n",
       "    </tr>\n",
       "    <tr>\n",
       "      <td>3</td>\n",
       "      <td>INTJ</td>\n",
       "      <td>['Dear INTP,   I enjoyed our conversation the ...</td>\n",
       "    </tr>\n",
       "    <tr>\n",
       "      <td>4</td>\n",
       "      <td>ENTJ</td>\n",
       "      <td>['You're fired., That's another silly misconce...</td>\n",
       "    </tr>\n",
       "  </tbody>\n",
       "</table>\n",
       "</div>"
      ],
      "text/plain": [
       "   type                                          sep_posts\n",
       "0  INFJ  ['http://www.youtube.com/watch?v=qsXHcwe3krw, ...\n",
       "1  ENTP  ['I'm finding the lack of me in these posts ve...\n",
       "2  INTP  ['Good one  _____   https://www.youtube.com/wa...\n",
       "3  INTJ  ['Dear INTP,   I enjoyed our conversation the ...\n",
       "4  ENTJ  ['You're fired., That's another silly misconce..."
      ]
     },
     "execution_count": 2,
     "metadata": {},
     "output_type": "execute_result"
    }
   ],
   "source": [
    "# Load data & Separate posts\n",
    "df = pd.read_csv(dataset)\n",
    "sep_posts = [df['posts'][i].split('|||') for i in range(df.shape[0])]\n",
    "df = pd.concat([df['type'], pd.Series(sep_posts, name=\"sep_posts\")], axis=1)\n",
    "df.head()"
   ]
  },
  {
   "cell_type": "code",
   "execution_count": 3,
   "metadata": {},
   "outputs": [],
   "source": [
    "df.sep_posts = df.sep_posts.apply(lambda x: ' '.join(x))\n",
    "df.sep_posts = df.sep_posts.apply(clean_posts)"
   ]
  },
  {
   "cell_type": "code",
   "execution_count": 4,
   "metadata": {},
   "outputs": [],
   "source": [
    "df['IE'] = df['type'].apply(lambda x: 1 if x[0] == 'E' else 0)\n",
    "df['NS'] = df['type'].apply(lambda x: 1 if x[1] == 'S' else 0)\n",
    "df['TF'] = df['type'].apply(lambda x: 1 if x[2] == 'F' else 0)\n",
    "df['JP'] = df['type'].apply(lambda x: 1 if x[3] == 'P' else 0)"
   ]
  },
  {
   "cell_type": "markdown",
   "metadata": {},
   "source": [
    "### 2 Build Vectorizer\n",
    "\n",
    "Vectorizer is built with:\n",
    "- `CountVectorizer`\n",
    "\n",
    "- `TfidfTransformer`\n",
    "\n",
    "in `sklearn.feature_extraction.text`."
   ]
  },
  {
   "cell_type": "code",
   "execution_count": 5,
   "metadata": {},
   "outputs": [
    {
     "data": {
      "text/plain": [
       "<BarContainer object of 16 artists>"
      ]
     },
     "execution_count": 5,
     "metadata": {},
     "output_type": "execute_result"
    },
    {
     "data": {
      "image/png": "[encoded data removed]",
      "text/plain": [
       "<Figure size 720x360 with 1 Axes>"
      ]
     },
     "metadata": {
      "needs_background": "light"
     },
     "output_type": "display_data"
    }
   ],
   "source": [
    "# Plot and observe the distribution\n",
    "types = df.type.value_counts()\n",
    "types_name = list(map(lambda x:(x+'s').lower(), types.index))\n",
    "types_name += list(map(lambda x:x.lower(), types.index))\n",
    "stop_words = ['and','the','to','of'] + types_name\n",
    "\n",
    "plt.figure(figsize=(10,5))\n",
    "plt.bar(types.index, types.values)"
   ]
  },
  {
   "cell_type": "code",
   "execution_count": 6,
   "metadata": {},
   "outputs": [],
   "source": [
    "# Init Vectorizer\n",
    "Vectorizer = CountVectorizer(stop_words=stop_words, \n",
    "                             max_features=2000,\n",
    "                             analyzer=\"word\",\n",
    "                             max_df=0.8, min_df=0.1)"
   ]
  },
  {
   "cell_type": "code",
   "execution_count": 7,
   "metadata": {},
   "outputs": [],
   "source": [
    "# Build term-document matrix\n",
    "corpus = df.sep_posts.values.reshape(1,-1).tolist()[0]\n",
    "td_matrix = Vectorizer.fit_transform(corpus).toarray()"
   ]
  },
  {
   "cell_type": "code",
   "execution_count": 8,
   "metadata": {},
   "outputs": [],
   "source": [
    "# Transform a count matrix to a normalized \n",
    "# (1) term-frequency or \n",
    "# (2) term-frequency times inverse document-frequency \n",
    "# representation.\n",
    "\n",
    "Transformer = TfidfTransformer()\n",
    "tfidf_matrix = Transformer.fit_transform(td_matrix).toarray()\n",
    "tfidf_df = pd.DataFrame(tfidf_matrix, columns=Vectorizer.get_feature_names())"
   ]
  },
  {
   "cell_type": "code",
   "execution_count": 9,
   "metadata": {},
   "outputs": [],
   "source": [
    "tfidf_df_IE = pd.concat([tfidf_df, df['IE']], axis=1)\n",
    "tfidf_df_NS = pd.concat([tfidf_df, df['NS']], axis=1)\n",
    "tfidf_df_TF = pd.concat([tfidf_df, df['TF']], axis=1)\n",
    "tfidf_df_JP = pd.concat([tfidf_df, df['JP']], axis=1)"
   ]
  },
  {
   "cell_type": "markdown",
   "metadata": {},
   "source": [
    "### 3 Storage"
   ]
  },
  {
   "cell_type": "code",
   "execution_count": 10,
   "metadata": {},
   "outputs": [],
   "source": [
    "# Store Vectorizer and Transformer\n",
    "with open('pickles/Vectorizer.pk', 'wb') as pkl:\n",
    "    pk.dump(Vectorizer, pkl)\n",
    "\n",
    "with open('pickles/Transformer.pk', 'wb') as pkl:\n",
    "    pk.dump(Transformer, pkl)"
   ]
  },
  {
   "cell_type": "code",
   "execution_count": 11,
   "metadata": {},
   "outputs": [],
   "source": [
    "# Store dataframes\n",
    "with open('pickles/tfidf_df_IE.pk', 'wb') as pkl:\n",
    "    pk.dump(tfidf_df_IE, pkl)\n",
    "\n",
    "with open('pickles/tfidf_df_NS.pk', 'wb') as pkl:\n",
    "    pk.dump(tfidf_df_NS, pkl)\n",
    "\n",
    "with open('pickles/tfidf_df_TF.pk', 'wb') as pkl:\n",
    "    pk.dump(tfidf_df_TF, pkl)\n",
    "\n",
    "with open('pickles/tfidf_df_JP.pk', 'wb') as pkl:\n",
    "    pk.dump(tfidf_df_JP, pkl)"
   ]
  },
  {
   "cell_type": "code",
   "execution_count": 12,
   "metadata": {},
   "outputs": [],
   "source": [
    "# Store dataframe\n",
    "with open('pickles/df.pk', 'wb') as pkl:\n",
    "    pk.dump(df, pkl)\n",
    "\n",
    "with open('pickles/tfidf_df.pk', 'wb') as pkl:\n",
    "    pk.dump(tfidf_df, pkl)"
   ]
  },
  {
   "cell_type": "code",
   "execution_count": 13,
   "metadata": {},
   "outputs": [],
   "source": [
    "# Store csv\n",
    "df.to_csv('pickles/sep_mbti.csv', index=False)"
   ]
  }
 ],
 "metadata": {
  "kernelspec": {
   "display_name": "Python [conda env:root] *",
   "language": "python",
   "name": "conda-root-py"
  },
  "language_info": {
   "codemirror_mode": {
    "name": "ipython",
    "version": 3
   },
   "file_extension": ".py",
   "mimetype": "text/x-python",
   "name": "python",
   "nbconvert_exporter": "python",
   "pygments_lexer": "ipython3",
   "version": "3.7.4"
  }
 },
 "nbformat": 4,
 "nbformat_minor": 2
}
